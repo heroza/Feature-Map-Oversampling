{
  "cells": [
    {
      "cell_type": "markdown",
      "metadata": {
        "id": "view-in-github",
        "colab_type": "text"
      },
      "source": [
        "<a href=\"https://colab.research.google.com/github/heroza/Feature-Map-Oversampling/blob/main/Skin_Cancer_Diagnosis_using_FM_Oversampling%20after%20Global%20Pooling.ipynb\" target=\"_parent\"><img src=\"https://colab.research.google.com/assets/colab-badge.svg\" alt=\"Open In Colab\"/></a>"
      ]
    },
    {
      "cell_type": "markdown",
      "metadata": {
        "id": "PUusDE1Z9TNb"
      },
      "source": [
        "Prepare the dataset. \n",
        "Currently, we use skin cancer ISIC dataset from Kaggle https://www.kaggle.com/datasets/nodoubttome/skin-cancer9-classesisic\n",
        "\n",
        "Tutorial for how to load Kaggle dataset can be found in https://www.analyticsvidhya.com/blog/2021/06/how-to-load-kaggle-datasets-directly-into-google-colab/"
      ]
    },
    {
      "cell_type": "code",
      "execution_count": null,
      "metadata": {
        "colab": {
          "base_uri": "https://localhost:8080/"
        },
        "id": "Eus_4tUgfEk9",
        "outputId": "e3f176e0-999c-46f3-ef4a-a6791a4ee333"
      },
      "outputs": [
        {
          "output_type": "stream",
          "name": "stdout",
          "text": [
            "Mounted at /content/drive\n"
          ]
        }
      ],
      "source": [
        "from google.colab import drive\n",
        "drive.mount('/content/drive')"
      ]
    },
    {
      "cell_type": "markdown",
      "metadata": {
        "id": "E_x4c0_DTkaa"
      },
      "source": [
        "#Library, atribut, and function"
      ]
    },
    {
      "cell_type": "code",
      "execution_count": null,
      "metadata": {
        "colab": {
          "base_uri": "https://localhost:8080/"
        },
        "id": "nR2MJBYq-oiB",
        "outputId": "84acd04c-3791-4ad8-a83f-51b225488f05"
      },
      "outputs": [
        {
          "output_type": "stream",
          "name": "stdout",
          "text": [
            "Looking in indexes: https://pypi.org/simple, https://us-python.pkg.dev/colab-wheels/public/simple/\n",
            "Requirement already satisfied: imbalanced-learn in /usr/local/lib/python3.7/dist-packages (0.8.1)\n",
            "Requirement already satisfied: numpy>=1.13.3 in /usr/local/lib/python3.7/dist-packages (from imbalanced-learn) (1.21.6)\n",
            "Requirement already satisfied: scikit-learn>=0.24 in /usr/local/lib/python3.7/dist-packages (from imbalanced-learn) (1.0.2)\n",
            "Requirement already satisfied: joblib>=0.11 in /usr/local/lib/python3.7/dist-packages (from imbalanced-learn) (1.1.0)\n",
            "Requirement already satisfied: scipy>=0.19.1 in /usr/local/lib/python3.7/dist-packages (from imbalanced-learn) (1.7.3)\n",
            "Requirement already satisfied: threadpoolctl>=2.0.0 in /usr/local/lib/python3.7/dist-packages (from scikit-learn>=0.24->imbalanced-learn) (3.1.0)\n"
          ]
        }
      ],
      "source": [
        "import pandas as pd\n",
        "import numpy as np\n",
        "import tensorflow as tf\n",
        "import matplotlib.pyplot as plt\n",
        "import seaborn as sns\n",
        "import os\n",
        "from collections import Counter\n",
        "from pathlib import Path\n",
        "from PIL import Image\n",
        "from sklearn import preprocessing\n",
        "from sklearn.metrics import precision_recall_fscore_support, balanced_accuracy_score, confusion_matrix, accuracy_score\n",
        "from keras.callbacks import ReduceLROnPlateau, EarlyStopping, ModelCheckpoint\n",
        "from keras.preprocessing.image import ImageDataGenerator\n",
        "from keras.models import Sequential\n",
        "from keras.layers import Conv2D, MaxPooling2D, UpSampling2D\n",
        "from tensorflow import keras\n",
        "from tensorflow.keras import layers\n",
        "from tensorflow.keras.optimizers import Adam, SGD\n",
        "from tensorflow.keras.preprocessing import image\n",
        "from tensorflow.keras.applications.resnet50 import ResNet50, preprocess_input, decode_predictions\n",
        "from tensorflow.keras.applications.inception_v3 import InceptionV3, preprocess_input\n",
        "from tensorflow.keras.layers import GlobalAveragePooling2D, Dense, Input, Dropout, Flatten\n",
        "from tensorflow.keras.models import Model, load_model\n",
        "from keras.utils.np_utils import to_categorical\n",
        "\n",
        "!pip install imbalanced-learn\n",
        "import imblearn\n",
        "from imblearn.over_sampling import SMOTE"
      ]
    },
    {
      "cell_type": "code",
      "execution_count": null,
      "metadata": {
        "id": "9-c7Xghg4SB4"
      },
      "outputs": [],
      "source": [
        "# input image size\n",
        "IMAGE_W = 224\n",
        "IMAGE_H = 224\n",
        "IMG_SIZE = (IMAGE_W,IMAGE_H)\n",
        "num_classes = 7\n",
        "EPOCHS = 300\n",
        "BATCH_SIZE = 64\n",
        "opt_adam = Adam(learning_rate=0.001, beta_1=0.9, beta_2=0.999, epsilon=None, decay=0.0, amsgrad=False)\n",
        "opt_SGD = SGD(learning_rate=0.001)\n",
        "the_arch = 'resnet50'\n",
        "\n",
        "#Data augmentation\n",
        "data_augmentation = tf.keras.Sequential([\n",
        "  layers.experimental.preprocessing.RandomFlip(\"horizontal_and_vertical\"),\n",
        "  layers.experimental.preprocessing.RandomRotation(0.2), \n",
        "  layers.experimental.preprocessing.RandomZoom(height_factor=(0.2, 0.3), width_factor=(0.2, 0.3)),\n",
        "  layers.experimental.preprocessing.RandomTranslation(0.3, 0.3, fill_mode='reflect', interpolation='bilinear',)\n",
        "])\n",
        "\n",
        "#Callbacks\n",
        "best_model_fpath = '/content/drive/MyDrive/PHD/Model/best_model_no.h5'\n",
        "last_model_fpath = '/content/drive/MyDrive/PHD/Model/last_model_no.h5'\n",
        "mc = ModelCheckpoint(best_model_fpath, monitor='val_balanced_acc', mode='max', verbose=1, save_best_only=True)\n",
        "learning_rate_reduction = ReduceLROnPlateau(monitor='val_balanced_acc', patience=50, verbose=1, factor=0.5, min_lr=0.00001)\n",
        "early_stopping_monitor = EarlyStopping(patience=50,monitor='val_balanced_acc')\n"
      ]
    },
    {
      "cell_type": "code",
      "execution_count": null,
      "metadata": {
        "id": "JffFid9sOXeo"
      },
      "outputs": [],
      "source": [
        "# load train and test dataset\n",
        "def preprocess_image_input(input_images, arch = the_arch):\n",
        "  input_images = input_images.astype('float32')\n",
        "  if arch == 'inception_v3':\n",
        "    output_ims = tf.keras.applications.inception_v3.preprocess_input(input_images)\n",
        "  else:\n",
        "    output_ims = tf.keras.applications.resnet50.preprocess_input(input_images)\n",
        "  return output_ims\n",
        "\n",
        "def load_cifar10_dataset():\n",
        "  from keras.datasets import cifar10\n",
        "    # load dataset\n",
        "  (X_train, y_train), (X_val, y_val) = cifar10.load_data()\n",
        "    # one hot encode target values\n",
        "  y_train = to_categorical(y_train)\n",
        "  y_val = to_categorical(y_val)\n",
        "\n",
        "  return X_train, y_train, X_val, y_val\n",
        "\n",
        "def balanced_acc(y_true, y_pred):\n",
        "    from keras import backend as K\n",
        "\n",
        "    tensor1 = tf.math.argmax(y_true, axis=1)\n",
        "    tensor2 = tf.math.argmax(y_pred, axis=1)\n",
        "\n",
        "    cm = tf.math.confusion_matrix(tensor1, tensor2)\n",
        "    \n",
        "    diag = tf.linalg.tensor_diag_part (cm)\n",
        "    tpfn = tf.cast(K.sum(cm, axis = 1), tf.float32) + K.epsilon()\n",
        "    recall = tf.divide(tf.cast(diag, tf.float32),tpfn)\n",
        "    balanced_acc = K.mean(recall)\n",
        "    return balanced_acc\n",
        "\n",
        "def define_model():\n",
        "    model = Sequential()\n",
        "    model.add(Conv2D(32, (3, 3), activation='relu', kernel_initializer='he_uniform', padding='same', input_shape=(32, 32, 3)))\n",
        "    model.add(Conv2D(32, (3, 3), activation='relu', kernel_initializer='he_uniform', padding='same'))\n",
        "    model.add(MaxPooling2D((2, 2)))\n",
        "    model.add(Flatten())\n",
        "    model.add(Dense(128, activation='relu', kernel_initializer='he_uniform'))\n",
        "    model.add(Dense(10, activation='softmax'))\n",
        "    # compile model\n",
        "    opt = SGD(learning_rate=0.001, momentum=0.9)\n",
        "    model.compile(optimizer=opt, loss='categorical_crossentropy', metrics=['accuracy'])\n",
        "    return model\n",
        "\n",
        "def define_base_model(arch = the_arch, start_trainable_layer = 9999):\n",
        "  #x = UpSampling2D(size=(7,7))(input_tensor)\n",
        "  #x = data_augmentation(input_tensor)\n",
        "  #x = layers.Rescaling(1.0 / 255)(input_tensor)  # Rescale inputs\n",
        "  if arch != 'dense':\n",
        "    input_tensor = Input(shape=(IMAGE_H, IMAGE_W, 3))\n",
        "    if arch == 'resnet50':\n",
        "      base_model = ResNet50(input_shape=(224,224,3), weights='imagenet', include_top=False)\n",
        "    elif arch == 'inception_v3':\n",
        "      base_model = InceptionV3(input_shape=(224,224,3), weights='imagenet', include_top=False)\n",
        "    x = base_model(input_tensor, training=False)\n",
        "    x = GlobalAveragePooling2D()(x)\n",
        "    if start_trainable_layer != 9999:\n",
        "      for layer in base_model.layers[start_trainable_layer:]:\n",
        "        layer.trainable = True\n",
        "  else:\n",
        "    input_tensor = Input(shape=(2048))\n",
        "    x = input_tensor\n",
        "  #x = Flatten()(x)\n",
        "  x = Dense(1024, activation='relu')(x)\n",
        "  x = Dropout(0.2)(x)\n",
        "  x = Dense(512, activation='relu')(x)\n",
        "  predictions = Dense(num_classes, activation='softmax')(x)\n",
        "  model = Model(inputs=input_tensor, outputs=predictions)\n",
        "  model.compile(optimizer = opt_SGD , loss = \"categorical_crossentropy\", metrics=['accuracy', balanced_acc])\n",
        "  return model\n",
        "\n",
        "# plot diagnostic learning curves\n",
        "def summarize_diagnostics(history):\n",
        "    # plot loss\n",
        "    plt.subplot(211)\n",
        "    plt.title('Cross Entropy Loss')\n",
        "    plt.plot(history.history['loss'], color='blue', label='train')\n",
        "    plt.plot(history.history['val_loss'], color='orange', label='test')\n",
        "    # plot accuracy\n",
        "    plt.subplot(212)\n",
        "    plt.title('Classification Accuracy')\n",
        "    plt.plot(history.history['accuracy'], color='blue', label='train')\n",
        "    plt.plot(history.history['val_accuracy'], color='orange', label='test')\n",
        " \n",
        "# scale pixels\n",
        "def norm_pixels(train, test):\n",
        "    # convert from integers to floats\n",
        "    train_norm = train.astype('float32')\n",
        "    test_norm = test.astype('float32')\n",
        "    # normalize to range 0-1\n",
        "    train_norm = train_norm / 255.0\n",
        "    test_norm = test_norm / 255.0\n",
        "    # return normalized images\n",
        "    return train_norm, test_norm\n",
        "\n",
        "def load_isic2018_dataset(train_under_frac = 0):\n",
        "  df_train = pd.read_csv('/content/drive/MyDrive/PHD/Datasets/isic2018/ISIC2018_Task3_Training_GroundTruth/ISIC2018_Task3_Training_GroundTruth.csv') \n",
        "  df_val = pd.read_csv('/content/drive/MyDrive/PHD/Datasets/isic2018/ISIC2018_Task3_Validation_GroundTruth/ISIC2018_Task3_Validation_GroundTruth.csv') \n",
        "\n",
        "  #decode one hot label\n",
        "  df_train[\"Labels\"] = (df_train.iloc[:, 1:]).idxmax(axis=1)\n",
        "  df_val[\"Labels\"] = (df_val.iloc[:, 1:]).idxmax(axis=1)\n",
        "\n",
        "  #random undersampling for training dataset\n",
        "  if train_under_frac !=0:\n",
        "    df_train = df_train.drop(df_train[df_train['Labels'] == 'NV'].sample(frac=train_under_frac).index)\n",
        "\n",
        "  #drop one-hot column\n",
        "  df_train = df_train.drop(columns=['MEL', 'NV', 'BCC', 'AKIEC', 'BKL', 'DF', 'VASC'])\n",
        "  df_val = df_val.drop(columns=['MEL', 'NV', 'BCC', 'AKIEC', 'BKL', 'DF', 'VASC'])\n",
        "\n",
        "  #make filepaths of the image\n",
        "  dir_train = '/content/drive/MyDrive/PHD/Datasets/isic2018/ISIC2018_Task3_Training_Input/'\n",
        "  dir_val = '/content/drive/MyDrive/PHD/Datasets/isic2018/ISIC2018_Task3_Validation_Input/'\n",
        "  df_train['FilePaths'] = dir_train + df_train['image'] + '.jpg'\n",
        "  df_val['FilePaths'] = dir_val + df_val['image'] + '.jpg'\n",
        "  \n",
        "  #load image pixels to dataframe\n",
        "  df_train['image_px'] = df_train['FilePaths'].map(lambda x: np.asarray(Image.open(x).resize(IMG_SIZE)))\n",
        "  df_val['image_px'] = df_val['FilePaths'].map(lambda x: np.asarray(Image.open(x).resize(IMG_SIZE)))\n",
        "\n",
        "  X_train = np.asarray(df_train['image_px'].tolist())\n",
        "  X_val = np.asarray(df_val['image_px'].tolist())\n",
        "  y_train = np.array(df_train['Labels'].values)\n",
        "  y_val = np.array(df_val['Labels'].values)\n",
        "\n",
        "  label_encoder = preprocessing.LabelEncoder()\n",
        "  y_train = label_encoder.fit_transform(y_train)\n",
        "  y_val = label_encoder.fit_transform(y_val)\n",
        "  \n",
        "  y_train = to_categorical(y_train, num_classes = num_classes)\n",
        "  y_val = to_categorical(y_val, num_classes = num_classes)\n",
        "\n",
        "  return X_train, y_train, X_val, y_val, df_train, df_val\n",
        "\n",
        "def reset_dataset(df_train, df_val):\n",
        "  X_train = np.asarray(df_train['image_px'].tolist())\n",
        "  X_val = np.asarray(df_val['image_px'].tolist())\n",
        "  y_train = np.array(df_train['Labels'].values)\n",
        "  y_val = np.array(df_val['Labels'].values)\n",
        "\n",
        "  X_train = preprocess_image_input(X_train, the_arch)\n",
        "  X_val = preprocess_image_input(X_val, the_arch)\n",
        "\n",
        "  label_encoder = preprocessing.LabelEncoder()\n",
        "  y_train = label_encoder.fit_transform(y_train)\n",
        "  y_val = label_encoder.fit_transform(y_val)\n",
        "  \n",
        "  y_train = to_categorical(y_train, num_classes = num_classes)\n",
        "  y_val = to_categorical(y_val, num_classes = num_classes)\n",
        "  return X_train, y_train, X_val, y_val\n",
        "\n",
        "def SMOTE_Data(X, y, one_hot = False, k = 5):\n",
        "  if one_hot:\n",
        "    y = np.argmax(y, axis=1)\n",
        "  sm = SMOTE(random_state=42, k_neighbors=k)\n",
        "  X_resampled, y_resampled = sm.fit_resample(X.reshape((-1, IMAGE_W * IMAGE_H * 3)), y)\n",
        "  X_resampled = X_resampled.reshape(-1, IMAGE_W, IMAGE_H, 3)\n",
        "  if one_hot:\n",
        "    y_resampled = to_categorical(y_resampled, num_classes = num_classes)\n",
        "  else:\n",
        "    y_resampled = y_resampled.reshape(-1,1)\n",
        "  return X_resampled, y_resampled\n",
        "\n",
        "def SMOTE_Data2(X, y, one_hot = False, k = 5):\n",
        "  if one_hot:\n",
        "    y = np.argmax(y, axis=1)\n",
        "  sm = SMOTE(random_state=42, k_neighbors=k)\n",
        "  X_resampled, y_resampled = sm.fit_resample(X, y)\n",
        "  if one_hot:\n",
        "    y_resampled = to_categorical(y_resampled, num_classes = num_classes)\n",
        "  else:\n",
        "    y_resampled = y_resampled.reshape(-1,1)\n",
        "  return X_resampled, y_resampled"
      ]
    },
    {
      "cell_type": "markdown",
      "source": [
        "#Exp"
      ],
      "metadata": {
        "id": "UswA0co2y1wl"
      }
    },
    {
      "cell_type": "code",
      "source": [
        "input_tensor = Input(shape=(IMAGE_H, IMAGE_W, 3))\n",
        "base_model = ResNet50(input_shape=(224,224,3), weights='imagenet', include_top=False)\n",
        "x = base_model(input_tensor, training=False)\n",
        "x = GlobalAveragePooling2D()(x)\n",
        "res50 = Model(inputs=input_tensor, outputs=x)"
      ],
      "metadata": {
        "id": "dnqJYIONy34l"
      },
      "execution_count": null,
      "outputs": []
    },
    {
      "cell_type": "code",
      "source": [
        "#Train i-last layer\n",
        "# summarize feature map shapes\n",
        "for i in range(len(base_model.layers)):\n",
        "    layer = base_model.layers[i]\n",
        "    # summarize output shape\n",
        "    print(i, layer.name, layer.output.shape)"
      ],
      "metadata": {
        "colab": {
          "base_uri": "https://localhost:8080/"
        },
        "id": "Kcn8hQg3J8yP",
        "outputId": "3fcb951e-1661-41a0-9076-832eb4fd3e53"
      },
      "execution_count": null,
      "outputs": [
        {
          "output_type": "stream",
          "name": "stdout",
          "text": [
            "0 input_8 (None, 224, 224, 3)\n",
            "1 conv1_pad (None, 230, 230, 3)\n",
            "2 conv1_conv (None, 112, 112, 64)\n",
            "3 conv1_bn (None, 112, 112, 64)\n",
            "4 conv1_relu (None, 112, 112, 64)\n",
            "5 pool1_pad (None, 114, 114, 64)\n",
            "6 pool1_pool (None, 56, 56, 64)\n",
            "7 conv2_block1_1_conv (None, 56, 56, 64)\n",
            "8 conv2_block1_1_bn (None, 56, 56, 64)\n",
            "9 conv2_block1_1_relu (None, 56, 56, 64)\n",
            "10 conv2_block1_2_conv (None, 56, 56, 64)\n",
            "11 conv2_block1_2_bn (None, 56, 56, 64)\n",
            "12 conv2_block1_2_relu (None, 56, 56, 64)\n",
            "13 conv2_block1_0_conv (None, 56, 56, 256)\n",
            "14 conv2_block1_3_conv (None, 56, 56, 256)\n",
            "15 conv2_block1_0_bn (None, 56, 56, 256)\n",
            "16 conv2_block1_3_bn (None, 56, 56, 256)\n",
            "17 conv2_block1_add (None, 56, 56, 256)\n",
            "18 conv2_block1_out (None, 56, 56, 256)\n",
            "19 conv2_block2_1_conv (None, 56, 56, 64)\n",
            "20 conv2_block2_1_bn (None, 56, 56, 64)\n",
            "21 conv2_block2_1_relu (None, 56, 56, 64)\n",
            "22 conv2_block2_2_conv (None, 56, 56, 64)\n",
            "23 conv2_block2_2_bn (None, 56, 56, 64)\n",
            "24 conv2_block2_2_relu (None, 56, 56, 64)\n",
            "25 conv2_block2_3_conv (None, 56, 56, 256)\n",
            "26 conv2_block2_3_bn (None, 56, 56, 256)\n",
            "27 conv2_block2_add (None, 56, 56, 256)\n",
            "28 conv2_block2_out (None, 56, 56, 256)\n",
            "29 conv2_block3_1_conv (None, 56, 56, 64)\n",
            "30 conv2_block3_1_bn (None, 56, 56, 64)\n",
            "31 conv2_block3_1_relu (None, 56, 56, 64)\n",
            "32 conv2_block3_2_conv (None, 56, 56, 64)\n",
            "33 conv2_block3_2_bn (None, 56, 56, 64)\n",
            "34 conv2_block3_2_relu (None, 56, 56, 64)\n",
            "35 conv2_block3_3_conv (None, 56, 56, 256)\n",
            "36 conv2_block3_3_bn (None, 56, 56, 256)\n",
            "37 conv2_block3_add (None, 56, 56, 256)\n",
            "38 conv2_block3_out (None, 56, 56, 256)\n",
            "39 conv3_block1_1_conv (None, 28, 28, 128)\n",
            "40 conv3_block1_1_bn (None, 28, 28, 128)\n",
            "41 conv3_block1_1_relu (None, 28, 28, 128)\n",
            "42 conv3_block1_2_conv (None, 28, 28, 128)\n",
            "43 conv3_block1_2_bn (None, 28, 28, 128)\n",
            "44 conv3_block1_2_relu (None, 28, 28, 128)\n",
            "45 conv3_block1_0_conv (None, 28, 28, 512)\n",
            "46 conv3_block1_3_conv (None, 28, 28, 512)\n",
            "47 conv3_block1_0_bn (None, 28, 28, 512)\n",
            "48 conv3_block1_3_bn (None, 28, 28, 512)\n",
            "49 conv3_block1_add (None, 28, 28, 512)\n",
            "50 conv3_block1_out (None, 28, 28, 512)\n",
            "51 conv3_block2_1_conv (None, 28, 28, 128)\n",
            "52 conv3_block2_1_bn (None, 28, 28, 128)\n",
            "53 conv3_block2_1_relu (None, 28, 28, 128)\n",
            "54 conv3_block2_2_conv (None, 28, 28, 128)\n",
            "55 conv3_block2_2_bn (None, 28, 28, 128)\n",
            "56 conv3_block2_2_relu (None, 28, 28, 128)\n",
            "57 conv3_block2_3_conv (None, 28, 28, 512)\n",
            "58 conv3_block2_3_bn (None, 28, 28, 512)\n",
            "59 conv3_block2_add (None, 28, 28, 512)\n",
            "60 conv3_block2_out (None, 28, 28, 512)\n",
            "61 conv3_block3_1_conv (None, 28, 28, 128)\n",
            "62 conv3_block3_1_bn (None, 28, 28, 128)\n",
            "63 conv3_block3_1_relu (None, 28, 28, 128)\n",
            "64 conv3_block3_2_conv (None, 28, 28, 128)\n",
            "65 conv3_block3_2_bn (None, 28, 28, 128)\n",
            "66 conv3_block3_2_relu (None, 28, 28, 128)\n",
            "67 conv3_block3_3_conv (None, 28, 28, 512)\n",
            "68 conv3_block3_3_bn (None, 28, 28, 512)\n",
            "69 conv3_block3_add (None, 28, 28, 512)\n",
            "70 conv3_block3_out (None, 28, 28, 512)\n",
            "71 conv3_block4_1_conv (None, 28, 28, 128)\n",
            "72 conv3_block4_1_bn (None, 28, 28, 128)\n",
            "73 conv3_block4_1_relu (None, 28, 28, 128)\n",
            "74 conv3_block4_2_conv (None, 28, 28, 128)\n",
            "75 conv3_block4_2_bn (None, 28, 28, 128)\n",
            "76 conv3_block4_2_relu (None, 28, 28, 128)\n",
            "77 conv3_block4_3_conv (None, 28, 28, 512)\n",
            "78 conv3_block4_3_bn (None, 28, 28, 512)\n",
            "79 conv3_block4_add (None, 28, 28, 512)\n",
            "80 conv3_block4_out (None, 28, 28, 512)\n",
            "81 conv4_block1_1_conv (None, 14, 14, 256)\n",
            "82 conv4_block1_1_bn (None, 14, 14, 256)\n",
            "83 conv4_block1_1_relu (None, 14, 14, 256)\n",
            "84 conv4_block1_2_conv (None, 14, 14, 256)\n",
            "85 conv4_block1_2_bn (None, 14, 14, 256)\n",
            "86 conv4_block1_2_relu (None, 14, 14, 256)\n",
            "87 conv4_block1_0_conv (None, 14, 14, 1024)\n",
            "88 conv4_block1_3_conv (None, 14, 14, 1024)\n",
            "89 conv4_block1_0_bn (None, 14, 14, 1024)\n",
            "90 conv4_block1_3_bn (None, 14, 14, 1024)\n",
            "91 conv4_block1_add (None, 14, 14, 1024)\n",
            "92 conv4_block1_out (None, 14, 14, 1024)\n",
            "93 conv4_block2_1_conv (None, 14, 14, 256)\n",
            "94 conv4_block2_1_bn (None, 14, 14, 256)\n",
            "95 conv4_block2_1_relu (None, 14, 14, 256)\n",
            "96 conv4_block2_2_conv (None, 14, 14, 256)\n",
            "97 conv4_block2_2_bn (None, 14, 14, 256)\n",
            "98 conv4_block2_2_relu (None, 14, 14, 256)\n",
            "99 conv4_block2_3_conv (None, 14, 14, 1024)\n",
            "100 conv4_block2_3_bn (None, 14, 14, 1024)\n",
            "101 conv4_block2_add (None, 14, 14, 1024)\n",
            "102 conv4_block2_out (None, 14, 14, 1024)\n",
            "103 conv4_block3_1_conv (None, 14, 14, 256)\n",
            "104 conv4_block3_1_bn (None, 14, 14, 256)\n",
            "105 conv4_block3_1_relu (None, 14, 14, 256)\n",
            "106 conv4_block3_2_conv (None, 14, 14, 256)\n",
            "107 conv4_block3_2_bn (None, 14, 14, 256)\n",
            "108 conv4_block3_2_relu (None, 14, 14, 256)\n",
            "109 conv4_block3_3_conv (None, 14, 14, 1024)\n",
            "110 conv4_block3_3_bn (None, 14, 14, 1024)\n",
            "111 conv4_block3_add (None, 14, 14, 1024)\n",
            "112 conv4_block3_out (None, 14, 14, 1024)\n",
            "113 conv4_block4_1_conv (None, 14, 14, 256)\n",
            "114 conv4_block4_1_bn (None, 14, 14, 256)\n",
            "115 conv4_block4_1_relu (None, 14, 14, 256)\n",
            "116 conv4_block4_2_conv (None, 14, 14, 256)\n",
            "117 conv4_block4_2_bn (None, 14, 14, 256)\n",
            "118 conv4_block4_2_relu (None, 14, 14, 256)\n",
            "119 conv4_block4_3_conv (None, 14, 14, 1024)\n",
            "120 conv4_block4_3_bn (None, 14, 14, 1024)\n",
            "121 conv4_block4_add (None, 14, 14, 1024)\n",
            "122 conv4_block4_out (None, 14, 14, 1024)\n",
            "123 conv4_block5_1_conv (None, 14, 14, 256)\n",
            "124 conv4_block5_1_bn (None, 14, 14, 256)\n",
            "125 conv4_block5_1_relu (None, 14, 14, 256)\n",
            "126 conv4_block5_2_conv (None, 14, 14, 256)\n",
            "127 conv4_block5_2_bn (None, 14, 14, 256)\n",
            "128 conv4_block5_2_relu (None, 14, 14, 256)\n",
            "129 conv4_block5_3_conv (None, 14, 14, 1024)\n",
            "130 conv4_block5_3_bn (None, 14, 14, 1024)\n",
            "131 conv4_block5_add (None, 14, 14, 1024)\n",
            "132 conv4_block5_out (None, 14, 14, 1024)\n",
            "133 conv4_block6_1_conv (None, 14, 14, 256)\n",
            "134 conv4_block6_1_bn (None, 14, 14, 256)\n",
            "135 conv4_block6_1_relu (None, 14, 14, 256)\n",
            "136 conv4_block6_2_conv (None, 14, 14, 256)\n",
            "137 conv4_block6_2_bn (None, 14, 14, 256)\n",
            "138 conv4_block6_2_relu (None, 14, 14, 256)\n",
            "139 conv4_block6_3_conv (None, 14, 14, 1024)\n",
            "140 conv4_block6_3_bn (None, 14, 14, 1024)\n",
            "141 conv4_block6_add (None, 14, 14, 1024)\n",
            "142 conv4_block6_out (None, 14, 14, 1024)\n",
            "143 conv5_block1_1_conv (None, 7, 7, 512)\n",
            "144 conv5_block1_1_bn (None, 7, 7, 512)\n",
            "145 conv5_block1_1_relu (None, 7, 7, 512)\n",
            "146 conv5_block1_2_conv (None, 7, 7, 512)\n",
            "147 conv5_block1_2_bn (None, 7, 7, 512)\n",
            "148 conv5_block1_2_relu (None, 7, 7, 512)\n",
            "149 conv5_block1_0_conv (None, 7, 7, 2048)\n",
            "150 conv5_block1_3_conv (None, 7, 7, 2048)\n",
            "151 conv5_block1_0_bn (None, 7, 7, 2048)\n",
            "152 conv5_block1_3_bn (None, 7, 7, 2048)\n",
            "153 conv5_block1_add (None, 7, 7, 2048)\n",
            "154 conv5_block1_out (None, 7, 7, 2048)\n",
            "155 conv5_block2_1_conv (None, 7, 7, 512)\n",
            "156 conv5_block2_1_bn (None, 7, 7, 512)\n",
            "157 conv5_block2_1_relu (None, 7, 7, 512)\n",
            "158 conv5_block2_2_conv (None, 7, 7, 512)\n",
            "159 conv5_block2_2_bn (None, 7, 7, 512)\n",
            "160 conv5_block2_2_relu (None, 7, 7, 512)\n",
            "161 conv5_block2_3_conv (None, 7, 7, 2048)\n",
            "162 conv5_block2_3_bn (None, 7, 7, 2048)\n",
            "163 conv5_block2_add (None, 7, 7, 2048)\n",
            "164 conv5_block2_out (None, 7, 7, 2048)\n",
            "165 conv5_block3_1_conv (None, 7, 7, 512)\n",
            "166 conv5_block3_1_bn (None, 7, 7, 512)\n",
            "167 conv5_block3_1_relu (None, 7, 7, 512)\n",
            "168 conv5_block3_2_conv (None, 7, 7, 512)\n",
            "169 conv5_block3_2_bn (None, 7, 7, 512)\n",
            "170 conv5_block3_2_relu (None, 7, 7, 512)\n",
            "171 conv5_block3_3_conv (None, 7, 7, 2048)\n",
            "172 conv5_block3_3_bn (None, 7, 7, 2048)\n",
            "173 conv5_block3_add (None, 7, 7, 2048)\n",
            "174 conv5_block3_out (None, 7, 7, 2048)\n"
          ]
        }
      ]
    },
    {
      "cell_type": "code",
      "source": [
        "X_train = res50.predict(X_train)\n",
        "X_val = res50.predict(X_val)\n",
        "print(X_train.shape)\n",
        "print(y_train.shape)\n",
        "print(X_val.shape)\n",
        "print(y_val.shape)\n",
        "print('Counter train data: ', Counter(np.argmax(y_train, axis=1)))\n",
        "print('Counter val data: ', Counter(np.argmax(y_val, axis=1)))"
      ],
      "metadata": {
        "colab": {
          "base_uri": "https://localhost:8080/"
        },
        "id": "UA7Af2Y73FUv",
        "outputId": "f41b2828-ad8d-4cd3-ac77-8a04be113794"
      },
      "execution_count": null,
      "outputs": [
        {
          "output_type": "stream",
          "name": "stdout",
          "text": [
            "(5321, 2048)\n",
            "(5321, 7)\n",
            "(193, 2048)\n",
            "(193, 7)\n",
            "Counter train data:  Counter({5: 2011, 4: 1113, 2: 1099, 1: 514, 0: 327, 6: 142, 3: 115})\n",
            "Counter val data:  Counter({5: 123, 2: 22, 4: 21, 1: 15, 0: 8, 6: 3, 3: 1})\n"
          ]
        }
      ]
    },
    {
      "cell_type": "code",
      "source": [
        "X_train, y_train = SMOTE_Data2(X_train, y_train, True)\n",
        "print(X_train.shape)\n",
        "print(y_train.shape)\n",
        "print(X_val.shape)\n",
        "print(y_val.shape)\n",
        "print('Counter train data: ', Counter(np.argmax(y_train, axis=1)))\n",
        "print('Counter val data: ', Counter(np.argmax(y_val, axis=1)))"
      ],
      "metadata": {
        "colab": {
          "base_uri": "https://localhost:8080/"
        },
        "id": "krJiAb1m3QNf",
        "outputId": "fc0dfaf9-da03-4d79-c03d-584362e908f5"
      },
      "execution_count": null,
      "outputs": [
        {
          "output_type": "stream",
          "name": "stdout",
          "text": [
            "(14077, 2048)\n",
            "(14077, 7)\n",
            "(193, 2048)\n",
            "(193, 7)\n",
            "Counter train data:  Counter({5: 2011, 4: 2011, 2: 2011, 3: 2011, 0: 2011, 1: 2011, 6: 2011})\n",
            "Counter val data:  Counter({5: 123, 2: 22, 4: 21, 1: 15, 0: 8, 6: 3, 3: 1})\n"
          ]
        }
      ]
    },
    {
      "cell_type": "markdown",
      "metadata": {
        "id": "5v7sLC2svMuJ"
      },
      "source": [
        "# Main"
      ]
    },
    {
      "cell_type": "code",
      "execution_count": null,
      "metadata": {
        "id": "4Bw4C7Fwwxad"
      },
      "outputs": [],
      "source": [
        "X_train, y_train, X_val, y_val = load_cifar10_dataset()"
      ]
    },
    {
      "cell_type": "code",
      "execution_count": null,
      "metadata": {
        "colab": {
          "base_uri": "https://localhost:8080/"
        },
        "id": "9QM00erNGU32",
        "outputId": "9a5b6e0d-eb0f-45de-a6bb-23b588f2f22e"
      },
      "outputs": [
        {
          "output_type": "stream",
          "name": "stdout",
          "text": [
            "(5321, 224, 224, 3)\n",
            "(5321, 7)\n",
            "(193, 224, 224, 3)\n",
            "(193, 7)\n"
          ]
        }
      ],
      "source": [
        "#load data\n",
        "X_train, y_train, X_val, y_val, df_train, df_val = load_isic2018_dataset(train_under_frac = 0.7)\n",
        "print(X_train.shape)\n",
        "print(y_train.shape)\n",
        "print(X_val.shape)\n",
        "print(y_val.shape)"
      ]
    },
    {
      "cell_type": "code",
      "execution_count": null,
      "metadata": {
        "id": "o-rGI2h3JN5s"
      },
      "outputs": [],
      "source": [
        "X_train = preprocess_image_input(X_train, the_arch)\n",
        "X_val = preprocess_image_input(X_val, the_arch)"
      ]
    },
    {
      "cell_type": "code",
      "execution_count": null,
      "metadata": {
        "colab": {
          "base_uri": "https://localhost:8080/"
        },
        "id": "xArGWuciBt_-",
        "outputId": "49ce963a-7a3d-43a3-ce99-876400f8601f"
      },
      "outputs": [
        {
          "output_type": "stream",
          "name": "stdout",
          "text": [
            "(14077, 2048)\n",
            "(14077, 7)\n",
            "(193, 224, 224, 3)\n",
            "(193, 7)\n",
            "Counter train data:  Counter({5: 2011, 4: 2011, 2: 2011, 3: 2011, 0: 2011, 1: 2011, 6: 2011})\n",
            "Counter val data:  Counter({5: 123, 2: 22, 4: 21, 1: 15, 0: 8, 6: 3, 3: 1})\n"
          ]
        }
      ],
      "source": [
        "X_train, y_train = SMOTE_Data(X_train, y_train, True)\n",
        "print(X_train.shape)\n",
        "print(y_train.shape)\n",
        "print(X_val.shape)\n",
        "print(y_val.shape)\n",
        "print('Counter train data: ', Counter(np.argmax(y_train, axis=1)))\n",
        "print('Counter val data: ', Counter(np.argmax(y_val, axis=1)))"
      ]
    },
    {
      "cell_type": "code",
      "execution_count": null,
      "metadata": {
        "id": "A8eRZiucdYnP"
      },
      "outputs": [],
      "source": [
        "#USe TF.data\n",
        "#training_data = tf.data.Dataset.from_tensor_slices((X_train, y_train))\n",
        "#validation_data = tf.data.Dataset.from_tensor_slices((X_val, y_val))\n",
        "\n",
        "#autotune = tf.data.AUTOTUNE\n",
        "#train_data_batches = training_data.shuffle(buffer_size=40000).batch(BATCH_SIZE).prefetch(buffer_size=autotune)\n",
        "#valid_data_batches = validation_data.shuffle(buffer_size=10000).batch(BATCH_SIZE).prefetch(buffer_size=autotune)"
      ]
    },
    {
      "cell_type": "code",
      "execution_count": null,
      "metadata": {
        "id": "V7Z_nccu6QjB"
      },
      "outputs": [],
      "source": [
        "#path = '/content/drive/MyDrive/PHD/Datasets/isic2018/'\n",
        "#df1 = pd.DataFrame(X_train.reshape(X_train.shape[0],-1))\n",
        "#df1['y_train'] = np.argmax(y_train, axis=1).tolist()\n",
        "#df2 = pd.DataFrame(X_val.reshape(X_val.shape[0],-1))\n",
        "#df2['y_val'] = np.argmax(y_val, axis=1).tolist()\n",
        "#df1.to_pickle(path+\"isic2018_train.pkl\")\n",
        "#df2.to_pickle(path+\"isic2018_val.pkl\")"
      ]
    },
    {
      "cell_type": "code",
      "execution_count": null,
      "metadata": {
        "id": "qge6cnxQPnH6"
      },
      "outputs": [],
      "source": [
        "path = '/content/drive/MyDrive/PHD/Datasets/isic2018/'\n",
        "df1 = pd.read_pickle(path+\"isic2018_train.pkl\")\n",
        "X_train = df1.loc[:, df1.columns != 'y_train'].to_numpy()\n",
        "X_train = X_train.reshape(-1,224,224,3)\n",
        "y_train = df1.loc[:, df1.columns == 'y_train'].to_numpy()\n",
        "y_train = to_categorical(y_train)\n",
        "\n",
        "df1 = pd.read_pickle(path+\"isic2018_val.pkl\")\n",
        "X_val = df1.loc[:, df1.columns != 'y_val'].to_numpy()\n",
        "X_val = X_val.reshape(-1,224,224,3)\n",
        "y_val = df1.loc[:, df1.columns == 'y_val'].to_numpy()\n",
        "y_val = to_categorical(y_val)"
      ]
    },
    {
      "cell_type": "code",
      "execution_count": null,
      "metadata": {
        "colab": {
          "base_uri": "https://localhost:8080/"
        },
        "id": "nAMBgWqIsAAB",
        "outputId": "0f593c6c-9e42-4b48-f8e0-b13330a9fd19"
      },
      "outputs": [
        {
          "output_type": "stream",
          "name": "stdout",
          "text": [
            "(5321, 224, 224, 3)\n",
            "(5321, 7)\n",
            "(193, 224, 224, 3)\n",
            "(193, 7)\n",
            "Counter train data:  Counter({5: 2011, 4: 1113, 2: 1099, 1: 514, 0: 327, 6: 142, 3: 115})\n",
            "Counter val data:  Counter({5: 123, 2: 22, 4: 21, 1: 15, 0: 8, 6: 3, 3: 1})\n"
          ]
        }
      ],
      "source": [
        "print(X_train.shape)\n",
        "print(y_train.shape)\n",
        "print(X_val.shape)\n",
        "print(y_val.shape)\n",
        "print('Counter train data: ', Counter(np.argmax(y_train, axis=1)))\n",
        "print('Counter val data: ', Counter(np.argmax(y_val, axis=1)))"
      ]
    },
    {
      "cell_type": "code",
      "execution_count": null,
      "metadata": {
        "colab": {
          "base_uri": "https://localhost:8080/"
        },
        "id": "vIygrW81Ln4z",
        "outputId": "52b0ddbe-182b-45b0-df5f-0f5d52ea2054"
      },
      "outputs": [
        {
          "output_type": "stream",
          "name": "stdout",
          "text": [
            "Downloading data from https://storage.googleapis.com/tensorflow/keras-applications/resnet/resnet50_weights_tf_dim_ordering_tf_kernels_notop.h5\n",
            "94773248/94765736 [==============================] - 2s 0us/step\n",
            "94781440/94765736 [==============================] - 2s 0us/step\n",
            "Model: \"model\"\n",
            "_________________________________________________________________\n",
            " Layer (type)                Output Shape              Param #   \n",
            "=================================================================\n",
            " input_1 (InputLayer)        [(None, 224, 224, 3)]     0         \n",
            "                                                                 \n",
            " resnet50 (Functional)       (None, 7, 7, 2048)        23587712  \n",
            "                                                                 \n",
            " global_average_pooling2d (G  (None, 2048)             0         \n",
            " lobalAveragePooling2D)                                          \n",
            "                                                                 \n",
            " dense (Dense)               (None, 1024)              2098176   \n",
            "                                                                 \n",
            " dropout (Dropout)           (None, 1024)              0         \n",
            "                                                                 \n",
            " dense_1 (Dense)             (None, 512)               524800    \n",
            "                                                                 \n",
            " dense_2 (Dense)             (None, 7)                 3591      \n",
            "                                                                 \n",
            "=================================================================\n",
            "Total params: 26,214,279\n",
            "Trainable params: 26,161,159\n",
            "Non-trainable params: 53,120\n",
            "_________________________________________________________________\n",
            "Epoch 1/300\n",
            "83/83 [==============================] - ETA: 0s - loss: 1.4257 - accuracy: 0.4445 - balanced_acc: 0.2344\n",
            "Epoch 1: val_balanced_acc improved from -inf to 0.39416, saving model to /content/drive/MyDrive/PHD/Model/best_model_no.h5\n",
            "83/83 [==============================] - 75s 671ms/step - loss: 1.4257 - accuracy: 0.4445 - balanced_acc: 0.2344 - val_loss: 0.8656 - val_accuracy: 0.6995 - val_balanced_acc: 0.3942 - lr: 0.0010\n",
            "Epoch 2/300\n",
            "83/83 [==============================] - ETA: 0s - loss: 1.1422 - accuracy: 0.5492 - balanced_acc: 0.3440\n",
            "Epoch 2: val_balanced_acc improved from 0.39416 to 0.46108, saving model to /content/drive/MyDrive/PHD/Model/best_model_no.h5\n",
            "83/83 [==============================] - 54s 643ms/step - loss: 1.1422 - accuracy: 0.5492 - balanced_acc: 0.3440 - val_loss: 0.6654 - val_accuracy: 0.7876 - val_balanced_acc: 0.4611 - lr: 0.0010\n",
            "Epoch 3/300\n",
            "83/83 [==============================] - ETA: 0s - loss: 1.0060 - accuracy: 0.6066 - balanced_acc: 0.4342\n",
            "Epoch 3: val_balanced_acc improved from 0.46108 to 0.50363, saving model to /content/drive/MyDrive/PHD/Model/best_model_no.h5\n",
            "83/83 [==============================] - 53s 639ms/step - loss: 1.0060 - accuracy: 0.6066 - balanced_acc: 0.4342 - val_loss: 0.6215 - val_accuracy: 0.7876 - val_balanced_acc: 0.5036 - lr: 0.0010\n",
            "Epoch 4/300\n",
            "83/83 [==============================] - ETA: 0s - loss: 0.9136 - accuracy: 0.6506 - balanced_acc: 0.4745\n",
            "Epoch 4: val_balanced_acc improved from 0.50363 to 0.58330, saving model to /content/drive/MyDrive/PHD/Model/best_model_no.h5\n",
            "83/83 [==============================] - 54s 647ms/step - loss: 0.9136 - accuracy: 0.6506 - balanced_acc: 0.4745 - val_loss: 0.5922 - val_accuracy: 0.8290 - val_balanced_acc: 0.5833 - lr: 0.0010\n",
            "Epoch 5/300\n",
            "83/83 [==============================] - ETA: 0s - loss: 0.8532 - accuracy: 0.6715 - balanced_acc: 0.5268\n",
            "Epoch 5: val_balanced_acc did not improve from 0.58330\n",
            "83/83 [==============================] - 52s 633ms/step - loss: 0.8532 - accuracy: 0.6715 - balanced_acc: 0.5268 - val_loss: 0.5528 - val_accuracy: 0.8290 - val_balanced_acc: 0.4559 - lr: 0.0010\n",
            "Epoch 6/300\n",
            "83/83 [==============================] - ETA: 0s - loss: 0.7996 - accuracy: 0.6972 - balanced_acc: 0.5847\n",
            "Epoch 6: val_balanced_acc did not improve from 0.58330\n",
            "83/83 [==============================] - 53s 633ms/step - loss: 0.7996 - accuracy: 0.6972 - balanced_acc: 0.5847 - val_loss: 0.6292 - val_accuracy: 0.7979 - val_balanced_acc: 0.5502 - lr: 0.0010\n",
            "Epoch 7/300\n",
            "83/83 [==============================] - ETA: 0s - loss: 0.7421 - accuracy: 0.7181 - balanced_acc: 0.5916\n",
            "Epoch 7: val_balanced_acc did not improve from 0.58330\n",
            "83/83 [==============================] - 52s 632ms/step - loss: 0.7421 - accuracy: 0.7181 - balanced_acc: 0.5916 - val_loss: 0.8412 - val_accuracy: 0.7098 - val_balanced_acc: 0.5244 - lr: 0.0010\n",
            "Epoch 8/300\n",
            "83/83 [==============================] - ETA: 0s - loss: 0.7060 - accuracy: 0.7265 - balanced_acc: 0.6198\n",
            "Epoch 8: val_balanced_acc did not improve from 0.58330\n",
            "83/83 [==============================] - 52s 632ms/step - loss: 0.7060 - accuracy: 0.7265 - balanced_acc: 0.6198 - val_loss: 0.6011 - val_accuracy: 0.7927 - val_balanced_acc: 0.5703 - lr: 0.0010\n",
            "Epoch 9/300\n",
            "83/83 [==============================] - ETA: 0s - loss: 0.6696 - accuracy: 0.7502 - balanced_acc: 0.6389\n",
            "Epoch 9: val_balanced_acc improved from 0.58330 to 0.60769, saving model to /content/drive/MyDrive/PHD/Model/best_model_no.h5\n",
            "83/83 [==============================] - 54s 652ms/step - loss: 0.6696 - accuracy: 0.7502 - balanced_acc: 0.6389 - val_loss: 0.5925 - val_accuracy: 0.8135 - val_balanced_acc: 0.6077 - lr: 0.0010\n",
            "Epoch 10/300\n",
            "83/83 [==============================] - ETA: 0s - loss: 0.6435 - accuracy: 0.7578 - balanced_acc: 0.6637\n",
            "Epoch 10: val_balanced_acc improved from 0.60769 to 0.63117, saving model to /content/drive/MyDrive/PHD/Model/best_model_no.h5\n",
            "83/83 [==============================] - 54s 652ms/step - loss: 0.6435 - accuracy: 0.7578 - balanced_acc: 0.6637 - val_loss: 0.4993 - val_accuracy: 0.8394 - val_balanced_acc: 0.6312 - lr: 0.0010\n",
            "Epoch 11/300\n",
            "83/83 [==============================] - ETA: 0s - loss: 0.5925 - accuracy: 0.7776 - balanced_acc: 0.6779\n",
            "Epoch 11: val_balanced_acc did not improve from 0.63117\n",
            "83/83 [==============================] - 53s 633ms/step - loss: 0.5925 - accuracy: 0.7776 - balanced_acc: 0.6779 - val_loss: 0.4974 - val_accuracy: 0.8238 - val_balanced_acc: 0.4952 - lr: 0.0010\n",
            "Epoch 12/300\n",
            "83/83 [==============================] - ETA: 0s - loss: 0.5651 - accuracy: 0.7906 - balanced_acc: 0.6968\n",
            "Epoch 12: val_balanced_acc did not improve from 0.63117\n",
            "83/83 [==============================] - 53s 633ms/step - loss: 0.5651 - accuracy: 0.7906 - balanced_acc: 0.6968 - val_loss: 0.4864 - val_accuracy: 0.8238 - val_balanced_acc: 0.5705 - lr: 0.0010\n",
            "Epoch 13/300\n",
            "83/83 [==============================] - ETA: 0s - loss: 0.5436 - accuracy: 0.8048 - balanced_acc: 0.7228\n",
            "Epoch 13: val_balanced_acc did not improve from 0.63117\n",
            "83/83 [==============================] - 52s 631ms/step - loss: 0.5436 - accuracy: 0.8048 - balanced_acc: 0.7228 - val_loss: 0.5795 - val_accuracy: 0.7979 - val_balanced_acc: 0.6299 - lr: 0.0010\n",
            "Epoch 14/300\n",
            "83/83 [==============================] - ETA: 0s - loss: 0.5020 - accuracy: 0.8086 - balanced_acc: 0.7292\n",
            "Epoch 14: val_balanced_acc did not improve from 0.63117\n",
            "83/83 [==============================] - 52s 632ms/step - loss: 0.5020 - accuracy: 0.8086 - balanced_acc: 0.7292 - val_loss: 0.4660 - val_accuracy: 0.8497 - val_balanced_acc: 0.6257 - lr: 0.0010\n",
            "Epoch 15/300\n",
            "83/83 [==============================] - ETA: 0s - loss: 0.4796 - accuracy: 0.8202 - balanced_acc: 0.7433\n",
            "Epoch 15: val_balanced_acc did not improve from 0.63117\n",
            "83/83 [==============================] - 53s 633ms/step - loss: 0.4796 - accuracy: 0.8202 - balanced_acc: 0.7433 - val_loss: 0.5499 - val_accuracy: 0.8135 - val_balanced_acc: 0.6269 - lr: 0.0010\n",
            "Epoch 16/300\n",
            "83/83 [==============================] - ETA: 0s - loss: 0.4394 - accuracy: 0.8398 - balanced_acc: 0.7585\n",
            "Epoch 16: val_balanced_acc improved from 0.63117 to 0.63793, saving model to /content/drive/MyDrive/PHD/Model/best_model_no.h5\n",
            "83/83 [==============================] - 54s 651ms/step - loss: 0.4394 - accuracy: 0.8398 - balanced_acc: 0.7585 - val_loss: 0.4159 - val_accuracy: 0.8601 - val_balanced_acc: 0.6379 - lr: 0.0010\n",
            "Epoch 17/300\n",
            "83/83 [==============================] - ETA: 0s - loss: 0.4212 - accuracy: 0.8461 - balanced_acc: 0.7630\n",
            "Epoch 17: val_balanced_acc did not improve from 0.63793\n",
            "83/83 [==============================] - 53s 633ms/step - loss: 0.4212 - accuracy: 0.8461 - balanced_acc: 0.7630 - val_loss: 0.5370 - val_accuracy: 0.8238 - val_balanced_acc: 0.6126 - lr: 0.0010\n",
            "Epoch 18/300\n",
            "83/83 [==============================] - ETA: 0s - loss: 0.3711 - accuracy: 0.8636 - balanced_acc: 0.7939\n",
            "Epoch 18: val_balanced_acc did not improve from 0.63793\n",
            "83/83 [==============================] - 53s 634ms/step - loss: 0.3711 - accuracy: 0.8636 - balanced_acc: 0.7939 - val_loss: 0.5299 - val_accuracy: 0.8083 - val_balanced_acc: 0.6262 - lr: 0.0010\n",
            "Epoch 19/300\n",
            "83/83 [==============================] - ETA: 0s - loss: 0.3573 - accuracy: 0.8737 - balanced_acc: 0.8143\n",
            "Epoch 19: val_balanced_acc did not improve from 0.63793\n",
            "83/83 [==============================] - 53s 633ms/step - loss: 0.3573 - accuracy: 0.8737 - balanced_acc: 0.8143 - val_loss: 0.4826 - val_accuracy: 0.8187 - val_balanced_acc: 0.5001 - lr: 0.0010\n",
            "Epoch 20/300\n",
            "83/83 [==============================] - ETA: 0s - loss: 0.3755 - accuracy: 0.8667 - balanced_acc: 0.7848\n",
            "Epoch 20: val_balanced_acc did not improve from 0.63793\n",
            "83/83 [==============================] - 53s 633ms/step - loss: 0.3755 - accuracy: 0.8667 - balanced_acc: 0.7848 - val_loss: 0.7165 - val_accuracy: 0.7772 - val_balanced_acc: 0.6297 - lr: 0.0010\n",
            "Epoch 21/300\n",
            "83/83 [==============================] - ETA: 0s - loss: 0.3226 - accuracy: 0.8824 - balanced_acc: 0.8245\n",
            "Epoch 21: val_balanced_acc improved from 0.63793 to 0.66469, saving model to /content/drive/MyDrive/PHD/Model/best_model_no.h5\n",
            "83/83 [==============================] - 54s 655ms/step - loss: 0.3226 - accuracy: 0.8824 - balanced_acc: 0.8245 - val_loss: 0.4224 - val_accuracy: 0.8653 - val_balanced_acc: 0.6647 - lr: 0.0010\n",
            "Epoch 22/300\n",
            "83/83 [==============================] - ETA: 0s - loss: 0.3049 - accuracy: 0.8902 - balanced_acc: 0.8326\n",
            "Epoch 22: val_balanced_acc did not improve from 0.66469\n",
            "83/83 [==============================] - 53s 633ms/step - loss: 0.3049 - accuracy: 0.8902 - balanced_acc: 0.8326 - val_loss: 0.4698 - val_accuracy: 0.8238 - val_balanced_acc: 0.4815 - lr: 0.0010\n",
            "Epoch 23/300\n",
            "83/83 [==============================] - ETA: 0s - loss: 0.2720 - accuracy: 0.9007 - balanced_acc: 0.8472\n",
            "Epoch 23: val_balanced_acc did not improve from 0.66469\n",
            "83/83 [==============================] - 53s 633ms/step - loss: 0.2720 - accuracy: 0.9007 - balanced_acc: 0.8472 - val_loss: 0.5200 - val_accuracy: 0.8497 - val_balanced_acc: 0.6232 - lr: 0.0010\n",
            "Epoch 24/300\n",
            "83/83 [==============================] - ETA: 0s - loss: 0.2530 - accuracy: 0.9096 - balanced_acc: 0.8455\n",
            "Epoch 24: val_balanced_acc did not improve from 0.66469\n",
            "83/83 [==============================] - 52s 632ms/step - loss: 0.2530 - accuracy: 0.9096 - balanced_acc: 0.8455 - val_loss: 0.5185 - val_accuracy: 0.8238 - val_balanced_acc: 0.5093 - lr: 0.0010\n",
            "Epoch 25/300\n",
            "83/83 [==============================] - ETA: 0s - loss: 0.2448 - accuracy: 0.9203 - balanced_acc: 0.8654\n",
            "Epoch 25: val_balanced_acc did not improve from 0.66469\n",
            "83/83 [==============================] - 53s 633ms/step - loss: 0.2448 - accuracy: 0.9203 - balanced_acc: 0.8654 - val_loss: 0.5906 - val_accuracy: 0.7979 - val_balanced_acc: 0.6470 - lr: 0.0010\n",
            "Epoch 26/300\n",
            "83/83 [==============================] - ETA: 0s - loss: 0.2479 - accuracy: 0.9125 - balanced_acc: 0.8617\n",
            "Epoch 26: val_balanced_acc did not improve from 0.66469\n",
            "83/83 [==============================] - 53s 633ms/step - loss: 0.2479 - accuracy: 0.9125 - balanced_acc: 0.8617 - val_loss: 0.8193 - val_accuracy: 0.7358 - val_balanced_acc: 0.5857 - lr: 0.0010\n",
            "Epoch 27/300\n",
            "83/83 [==============================] - ETA: 0s - loss: 0.2174 - accuracy: 0.9260 - balanced_acc: 0.8607\n",
            "Epoch 27: val_balanced_acc did not improve from 0.66469\n",
            "83/83 [==============================] - 53s 633ms/step - loss: 0.2174 - accuracy: 0.9260 - balanced_acc: 0.8607 - val_loss: 0.5041 - val_accuracy: 0.8394 - val_balanced_acc: 0.5042 - lr: 0.0010\n",
            "Epoch 28/300\n",
            "83/83 [==============================] - ETA: 0s - loss: 0.1861 - accuracy: 0.9401 - balanced_acc: 0.9036\n",
            "Epoch 28: val_balanced_acc did not improve from 0.66469\n",
            "83/83 [==============================] - 53s 633ms/step - loss: 0.1861 - accuracy: 0.9401 - balanced_acc: 0.9036 - val_loss: 0.5076 - val_accuracy: 0.8342 - val_balanced_acc: 0.6349 - lr: 0.0010\n",
            "Epoch 29/300\n",
            "83/83 [==============================] - ETA: 0s - loss: 0.2004 - accuracy: 0.9380 - balanced_acc: 0.8930\n",
            "Epoch 29: val_balanced_acc did not improve from 0.66469\n",
            "83/83 [==============================] - 53s 633ms/step - loss: 0.2004 - accuracy: 0.9380 - balanced_acc: 0.8930 - val_loss: 0.5513 - val_accuracy: 0.8342 - val_balanced_acc: 0.5101 - lr: 0.0010\n",
            "Epoch 30/300\n",
            "83/83 [==============================] - ETA: 0s - loss: 0.1571 - accuracy: 0.9488 - balanced_acc: 0.9021\n",
            "Epoch 30: val_balanced_acc did not improve from 0.66469\n",
            "83/83 [==============================] - 53s 633ms/step - loss: 0.1571 - accuracy: 0.9488 - balanced_acc: 0.9021 - val_loss: 0.5770 - val_accuracy: 0.7876 - val_balanced_acc: 0.5024 - lr: 0.0010\n",
            "Epoch 31/300\n",
            "83/83 [==============================] - ETA: 0s - loss: 0.1062 - accuracy: 0.9692 - balanced_acc: 0.9246\n",
            "Epoch 31: val_balanced_acc did not improve from 0.66469\n",
            "83/83 [==============================] - 53s 633ms/step - loss: 0.1062 - accuracy: 0.9692 - balanced_acc: 0.9246 - val_loss: 0.6160 - val_accuracy: 0.8187 - val_balanced_acc: 0.5182 - lr: 0.0010\n",
            "Epoch 32/300\n",
            "83/83 [==============================] - ETA: 0s - loss: 0.2518 - accuracy: 0.9283 - balanced_acc: 0.8652\n",
            "Epoch 32: val_balanced_acc did not improve from 0.66469\n",
            "83/83 [==============================] - 53s 633ms/step - loss: 0.2518 - accuracy: 0.9283 - balanced_acc: 0.8652 - val_loss: 0.5454 - val_accuracy: 0.8238 - val_balanced_acc: 0.5252 - lr: 0.0010\n",
            "Epoch 33/300\n",
            "83/83 [==============================] - ETA: 0s - loss: 0.0819 - accuracy: 0.9749 - balanced_acc: 0.9309\n",
            "Epoch 33: val_balanced_acc did not improve from 0.66469\n",
            "83/83 [==============================] - 53s 634ms/step - loss: 0.0819 - accuracy: 0.9749 - balanced_acc: 0.9309 - val_loss: 0.4790 - val_accuracy: 0.8705 - val_balanced_acc: 0.5332 - lr: 0.0010\n",
            "Epoch 34/300\n",
            "83/83 [==============================] - ETA: 0s - loss: 0.1729 - accuracy: 0.9492 - balanced_acc: 0.9087\n",
            "Epoch 34: val_balanced_acc did not improve from 0.66469\n",
            "83/83 [==============================] - 52s 632ms/step - loss: 0.1729 - accuracy: 0.9492 - balanced_acc: 0.9087 - val_loss: 0.5855 - val_accuracy: 0.8653 - val_balanced_acc: 0.5379 - lr: 0.0010\n",
            "Epoch 35/300\n",
            "83/83 [==============================] - ETA: 0s - loss: 0.0810 - accuracy: 0.9787 - balanced_acc: 0.9345\n",
            "Epoch 35: val_balanced_acc improved from 0.66469 to 0.66926, saving model to /content/drive/MyDrive/PHD/Model/best_model_no.h5\n",
            "83/83 [==============================] - 54s 650ms/step - loss: 0.0810 - accuracy: 0.9787 - balanced_acc: 0.9345 - val_loss: 0.5972 - val_accuracy: 0.8808 - val_balanced_acc: 0.6693 - lr: 0.0010\n",
            "Epoch 36/300\n",
            "83/83 [==============================] - ETA: 0s - loss: 0.0404 - accuracy: 0.9882 - balanced_acc: 0.9344\n",
            "Epoch 36: val_balanced_acc did not improve from 0.66926\n",
            "83/83 [==============================] - 53s 633ms/step - loss: 0.0404 - accuracy: 0.9882 - balanced_acc: 0.9344 - val_loss: 0.6293 - val_accuracy: 0.8653 - val_balanced_acc: 0.5379 - lr: 0.0010\n",
            "Epoch 37/300\n",
            "83/83 [==============================] - ETA: 0s - loss: 0.1007 - accuracy: 0.9718 - balanced_acc: 0.9180\n",
            "Epoch 37: val_balanced_acc did not improve from 0.66926\n",
            "83/83 [==============================] - 52s 632ms/step - loss: 0.1007 - accuracy: 0.9718 - balanced_acc: 0.9180 - val_loss: 0.6359 - val_accuracy: 0.7876 - val_balanced_acc: 0.5062 - lr: 0.0010\n",
            "Epoch 38/300\n",
            "83/83 [==============================] - ETA: 0s - loss: 0.0390 - accuracy: 0.9914 - balanced_acc: 0.9486\n",
            "Epoch 38: val_balanced_acc did not improve from 0.66926\n",
            "83/83 [==============================] - 52s 631ms/step - loss: 0.0390 - accuracy: 0.9914 - balanced_acc: 0.9486 - val_loss: 0.6128 - val_accuracy: 0.8705 - val_balanced_acc: 0.5474 - lr: 0.0010\n",
            "Epoch 39/300\n",
            "83/83 [==============================] - ETA: 0s - loss: 0.0192 - accuracy: 0.9973 - balanced_acc: 0.9605\n",
            "Epoch 39: val_balanced_acc did not improve from 0.66926\n",
            "83/83 [==============================] - 52s 632ms/step - loss: 0.0192 - accuracy: 0.9973 - balanced_acc: 0.9605 - val_loss: 0.6406 - val_accuracy: 0.8601 - val_balanced_acc: 0.5287 - lr: 0.0010\n",
            "Epoch 40/300\n",
            "83/83 [==============================] - ETA: 0s - loss: 0.1192 - accuracy: 0.9709 - balanced_acc: 0.9238\n",
            "Epoch 40: val_balanced_acc did not improve from 0.66926\n",
            "83/83 [==============================] - 52s 632ms/step - loss: 0.1192 - accuracy: 0.9709 - balanced_acc: 0.9238 - val_loss: 0.6270 - val_accuracy: 0.8394 - val_balanced_acc: 0.5394 - lr: 0.0010\n",
            "Epoch 41/300\n",
            "83/83 [==============================] - ETA: 0s - loss: 0.1170 - accuracy: 0.9728 - balanced_acc: 0.9313\n",
            "Epoch 41: val_balanced_acc did not improve from 0.66926\n",
            "83/83 [==============================] - 52s 632ms/step - loss: 0.1170 - accuracy: 0.9728 - balanced_acc: 0.9313 - val_loss: 0.5773 - val_accuracy: 0.8446 - val_balanced_acc: 0.5178 - lr: 0.0010\n",
            "Epoch 42/300\n",
            "83/83 [==============================] - ETA: 0s - loss: 0.0270 - accuracy: 0.9943 - balanced_acc: 0.9590\n",
            "Epoch 42: val_balanced_acc did not improve from 0.66926\n",
            "83/83 [==============================] - 53s 633ms/step - loss: 0.0270 - accuracy: 0.9943 - balanced_acc: 0.9590 - val_loss: 0.7215 - val_accuracy: 0.8601 - val_balanced_acc: 0.5377 - lr: 0.0010\n",
            "Epoch 43/300\n",
            "83/83 [==============================] - ETA: 0s - loss: 0.0190 - accuracy: 0.9960 - balanced_acc: 0.9407\n",
            "Epoch 43: val_balanced_acc did not improve from 0.66926\n",
            "83/83 [==============================] - 53s 633ms/step - loss: 0.0190 - accuracy: 0.9960 - balanced_acc: 0.9407 - val_loss: 0.7486 - val_accuracy: 0.8705 - val_balanced_acc: 0.5477 - lr: 0.0010\n",
            "Epoch 44/300\n",
            "83/83 [==============================] - ETA: 0s - loss: 0.0102 - accuracy: 0.9989 - balanced_acc: 0.9463\n",
            "Epoch 44: val_balanced_acc did not improve from 0.66926\n",
            "83/83 [==============================] - 53s 633ms/step - loss: 0.0102 - accuracy: 0.9989 - balanced_acc: 0.9463 - val_loss: 0.7490 - val_accuracy: 0.8497 - val_balanced_acc: 0.5270 - lr: 0.0010\n",
            "Epoch 45/300\n",
            "83/83 [==============================] - ETA: 0s - loss: 0.1511 - accuracy: 0.9593 - balanced_acc: 0.9186\n",
            "Epoch 45: val_balanced_acc did not improve from 0.66926\n",
            "83/83 [==============================] - 52s 633ms/step - loss: 0.1511 - accuracy: 0.9593 - balanced_acc: 0.9186 - val_loss: 0.7032 - val_accuracy: 0.8497 - val_balanced_acc: 0.5382 - lr: 0.0010\n",
            "Epoch 46/300\n",
            "83/83 [==============================] - ETA: 0s - loss: 0.0166 - accuracy: 0.9981 - balanced_acc: 0.9471\n",
            "Epoch 46: val_balanced_acc did not improve from 0.66926\n",
            "83/83 [==============================] - 53s 633ms/step - loss: 0.0166 - accuracy: 0.9981 - balanced_acc: 0.9471 - val_loss: 0.7597 - val_accuracy: 0.8394 - val_balanced_acc: 0.5424 - lr: 0.0010\n",
            "Epoch 47/300\n",
            "83/83 [==============================] - ETA: 0s - loss: 0.0080 - accuracy: 0.9996 - balanced_acc: 0.9407\n",
            "Epoch 47: val_balanced_acc did not improve from 0.66926\n",
            "83/83 [==============================] - 53s 633ms/step - loss: 0.0080 - accuracy: 0.9996 - balanced_acc: 0.9407 - val_loss: 0.8051 - val_accuracy: 0.8549 - val_balanced_acc: 0.5279 - lr: 0.0010\n",
            "Epoch 48/300\n",
            "83/83 [==============================] - ETA: 0s - loss: 0.0066 - accuracy: 0.9994 - balanced_acc: 0.9741\n",
            "Epoch 48: val_balanced_acc did not improve from 0.66926\n",
            "83/83 [==============================] - 53s 633ms/step - loss: 0.0066 - accuracy: 0.9994 - balanced_acc: 0.9741 - val_loss: 0.8627 - val_accuracy: 0.8497 - val_balanced_acc: 0.5298 - lr: 0.0010\n",
            "Epoch 49/300\n",
            "83/83 [==============================] - ETA: 0s - loss: 0.0060 - accuracy: 0.9994 - balanced_acc: 0.9692\n",
            "Epoch 49: val_balanced_acc did not improve from 0.66926\n",
            "83/83 [==============================] - 53s 633ms/step - loss: 0.0060 - accuracy: 0.9994 - balanced_acc: 0.9692 - val_loss: 0.8512 - val_accuracy: 0.8446 - val_balanced_acc: 0.5262 - lr: 0.0010\n",
            "Epoch 50/300\n",
            "83/83 [==============================] - ETA: 0s - loss: 0.0049 - accuracy: 0.9998 - balanced_acc: 0.9618\n",
            "Epoch 50: val_balanced_acc did not improve from 0.66926\n",
            "83/83 [==============================] - 53s 633ms/step - loss: 0.0049 - accuracy: 0.9998 - balanced_acc: 0.9618 - val_loss: 0.9062 - val_accuracy: 0.8290 - val_balanced_acc: 0.5237 - lr: 0.0010\n",
            "Epoch 51/300\n",
            "83/83 [==============================] - ETA: 0s - loss: 0.0049 - accuracy: 0.9998 - balanced_acc: 0.9554\n",
            "Epoch 51: val_balanced_acc did not improve from 0.66926\n",
            "83/83 [==============================] - 52s 632ms/step - loss: 0.0049 - accuracy: 0.9998 - balanced_acc: 0.9554 - val_loss: 0.8374 - val_accuracy: 0.8549 - val_balanced_acc: 0.5246 - lr: 0.0010\n",
            "Epoch 52/300\n",
            "83/83 [==============================] - ETA: 0s - loss: 0.0035 - accuracy: 0.9998 - balanced_acc: 0.9471\n",
            "Epoch 52: val_balanced_acc did not improve from 0.66926\n",
            "83/83 [==============================] - 53s 633ms/step - loss: 0.0035 - accuracy: 0.9998 - balanced_acc: 0.9471 - val_loss: 0.8634 - val_accuracy: 0.8601 - val_balanced_acc: 0.5287 - lr: 0.0010\n",
            "Epoch 53/300\n",
            "83/83 [==============================] - ETA: 0s - loss: 0.0032 - accuracy: 1.0000 - balanced_acc: 0.9679\n",
            "Epoch 53: val_balanced_acc did not improve from 0.66926\n",
            "83/83 [==============================] - 52s 632ms/step - loss: 0.0032 - accuracy: 1.0000 - balanced_acc: 0.9679 - val_loss: 0.8967 - val_accuracy: 0.8601 - val_balanced_acc: 0.5287 - lr: 0.0010\n",
            "Epoch 54/300\n",
            "83/83 [==============================] - ETA: 0s - loss: 0.0034 - accuracy: 1.0000 - balanced_acc: 0.9610\n",
            "Epoch 54: val_balanced_acc did not improve from 0.66926\n",
            "83/83 [==============================] - 53s 633ms/step - loss: 0.0034 - accuracy: 1.0000 - balanced_acc: 0.9610 - val_loss: 0.8850 - val_accuracy: 0.8549 - val_balanced_acc: 0.5228 - lr: 0.0010\n",
            "Epoch 55/300\n",
            "83/83 [==============================] - ETA: 0s - loss: 0.0029 - accuracy: 0.9998 - balanced_acc: 0.9484\n",
            "Epoch 55: val_balanced_acc did not improve from 0.66926\n",
            "83/83 [==============================] - 53s 633ms/step - loss: 0.0029 - accuracy: 0.9998 - balanced_acc: 0.9484 - val_loss: 0.9655 - val_accuracy: 0.8446 - val_balanced_acc: 0.5262 - lr: 0.0010\n",
            "Epoch 56/300\n",
            "83/83 [==============================] - ETA: 0s - loss: 0.0036 - accuracy: 0.9994 - balanced_acc: 0.9551\n",
            "Epoch 56: val_balanced_acc did not improve from 0.66926\n",
            "83/83 [==============================] - 52s 632ms/step - loss: 0.0036 - accuracy: 0.9994 - balanced_acc: 0.9551 - val_loss: 0.9377 - val_accuracy: 0.8601 - val_balanced_acc: 0.5491 - lr: 0.0010\n",
            "Epoch 57/300\n",
            "83/83 [==============================] - ETA: 0s - loss: 0.0030 - accuracy: 0.9998 - balanced_acc: 0.9573\n",
            "Epoch 57: val_balanced_acc did not improve from 0.66926\n",
            "83/83 [==============================] - 53s 633ms/step - loss: 0.0030 - accuracy: 0.9998 - balanced_acc: 0.9573 - val_loss: 0.9407 - val_accuracy: 0.8549 - val_balanced_acc: 0.5279 - lr: 0.0010\n",
            "Epoch 58/300\n",
            "83/83 [==============================] - ETA: 0s - loss: 0.2298 - accuracy: 0.9528 - balanced_acc: 0.9082\n",
            "Epoch 58: val_balanced_acc did not improve from 0.66926\n",
            "83/83 [==============================] - 53s 633ms/step - loss: 0.2298 - accuracy: 0.9528 - balanced_acc: 0.9082 - val_loss: 0.7245 - val_accuracy: 0.7409 - val_balanced_acc: 0.3189 - lr: 0.0010\n",
            "Epoch 59/300\n",
            "83/83 [==============================] - ETA: 0s - loss: 0.1561 - accuracy: 0.9545 - balanced_acc: 0.9074\n",
            "Epoch 59: val_balanced_acc did not improve from 0.66926\n",
            "83/83 [==============================] - 53s 633ms/step - loss: 0.1561 - accuracy: 0.9545 - balanced_acc: 0.9074 - val_loss: 0.7252 - val_accuracy: 0.8342 - val_balanced_acc: 0.5237 - lr: 0.0010\n",
            "Epoch 60/300\n",
            "83/83 [==============================] - ETA: 0s - loss: 0.1016 - accuracy: 0.9768 - balanced_acc: 0.9403\n",
            "Epoch 60: val_balanced_acc did not improve from 0.66926\n",
            "83/83 [==============================] - 52s 632ms/step - loss: 0.1016 - accuracy: 0.9768 - balanced_acc: 0.9403 - val_loss: 0.7447 - val_accuracy: 0.8497 - val_balanced_acc: 0.5465 - lr: 0.0010\n",
            "Epoch 61/300\n",
            "83/83 [==============================] - ETA: 0s - loss: 0.0094 - accuracy: 0.9990 - balanced_acc: 0.9525\n",
            "Epoch 61: val_balanced_acc did not improve from 0.66926\n",
            "83/83 [==============================] - 52s 632ms/step - loss: 0.0094 - accuracy: 0.9990 - balanced_acc: 0.9525 - val_loss: 0.8048 - val_accuracy: 0.8653 - val_balanced_acc: 0.5446 - lr: 0.0010\n",
            "Epoch 62/300\n",
            "83/83 [==============================] - ETA: 0s - loss: 0.0052 - accuracy: 0.9998 - balanced_acc: 0.9532\n",
            "Epoch 62: val_balanced_acc did not improve from 0.66926\n",
            "83/83 [==============================] - 52s 632ms/step - loss: 0.0052 - accuracy: 0.9998 - balanced_acc: 0.9532 - val_loss: 0.8397 - val_accuracy: 0.8601 - val_balanced_acc: 0.5457 - lr: 0.0010\n",
            "Epoch 63/300\n",
            "83/83 [==============================] - ETA: 0s - loss: 0.0047 - accuracy: 0.9998 - balanced_acc: 0.9474\n",
            "Epoch 63: val_balanced_acc did not improve from 0.66926\n",
            "83/83 [==============================] - 53s 633ms/step - loss: 0.0047 - accuracy: 0.9998 - balanced_acc: 0.9474 - val_loss: 0.8932 - val_accuracy: 0.8497 - val_balanced_acc: 0.5270 - lr: 0.0010\n",
            "Epoch 64/300\n",
            "83/83 [==============================] - ETA: 0s - loss: 0.0032 - accuracy: 1.0000 - balanced_acc: 0.9633\n",
            "Epoch 64: val_balanced_acc did not improve from 0.66926\n",
            "83/83 [==============================] - 52s 632ms/step - loss: 0.0032 - accuracy: 1.0000 - balanced_acc: 0.9633 - val_loss: 0.9365 - val_accuracy: 0.8497 - val_balanced_acc: 0.5237 - lr: 0.0010\n",
            "Epoch 65/300\n",
            "83/83 [==============================] - ETA: 0s - loss: 0.0026 - accuracy: 1.0000 - balanced_acc: 0.9541\n",
            "Epoch 65: val_balanced_acc did not improve from 0.66926\n",
            "83/83 [==============================] - 53s 633ms/step - loss: 0.0026 - accuracy: 1.0000 - balanced_acc: 0.9541 - val_loss: 0.9079 - val_accuracy: 0.8601 - val_balanced_acc: 0.5287 - lr: 0.0010\n",
            "Epoch 66/300\n",
            "83/83 [==============================] - ETA: 0s - loss: 0.0026 - accuracy: 0.9998 - balanced_acc: 0.9586\n",
            "Epoch 66: val_balanced_acc did not improve from 0.66926\n",
            "83/83 [==============================] - 53s 633ms/step - loss: 0.0026 - accuracy: 0.9998 - balanced_acc: 0.9586 - val_loss: 0.9264 - val_accuracy: 0.8601 - val_balanced_acc: 0.5315 - lr: 0.0010\n",
            "Epoch 67/300\n",
            "83/83 [==============================] - ETA: 0s - loss: 0.0021 - accuracy: 1.0000 - balanced_acc: 0.9521\n",
            "Epoch 67: val_balanced_acc did not improve from 0.66926\n",
            "83/83 [==============================] - 53s 634ms/step - loss: 0.0021 - accuracy: 1.0000 - balanced_acc: 0.9521 - val_loss: 0.9352 - val_accuracy: 0.8549 - val_balanced_acc: 0.5279 - lr: 0.0010\n",
            "Epoch 68/300\n",
            "83/83 [==============================] - ETA: 0s - loss: 0.0024 - accuracy: 0.9998 - balanced_acc: 0.9621\n",
            "Epoch 68: val_balanced_acc did not improve from 0.66926\n",
            "83/83 [==============================] - 53s 633ms/step - loss: 0.0024 - accuracy: 0.9998 - balanced_acc: 0.9621 - val_loss: 1.1053 - val_accuracy: 0.8135 - val_balanced_acc: 0.5233 - lr: 0.0010\n",
            "Epoch 69/300\n",
            "83/83 [==============================] - ETA: 0s - loss: 0.0020 - accuracy: 1.0000 - balanced_acc: 0.9621\n",
            "Epoch 69: val_balanced_acc did not improve from 0.66926\n",
            "83/83 [==============================] - 52s 632ms/step - loss: 0.0020 - accuracy: 1.0000 - balanced_acc: 0.9621 - val_loss: 1.0239 - val_accuracy: 0.8446 - val_balanced_acc: 0.5289 - lr: 0.0010\n",
            "Epoch 70/300\n",
            "83/83 [==============================] - ETA: 0s - loss: 0.0014 - accuracy: 1.0000 - balanced_acc: 0.9561\n",
            "Epoch 70: val_balanced_acc did not improve from 0.66926\n",
            "83/83 [==============================] - 53s 633ms/step - loss: 0.0014 - accuracy: 1.0000 - balanced_acc: 0.9561 - val_loss: 1.0066 - val_accuracy: 0.8653 - val_balanced_acc: 0.5298 - lr: 0.0010\n",
            "Epoch 71/300\n",
            "83/83 [==============================] - ETA: 0s - loss: 0.0012 - accuracy: 1.0000 - balanced_acc: 0.9581\n",
            "Epoch 71: val_balanced_acc did not improve from 0.66926\n",
            "83/83 [==============================] - 53s 633ms/step - loss: 0.0012 - accuracy: 1.0000 - balanced_acc: 0.9581 - val_loss: 1.0038 - val_accuracy: 0.8601 - val_balanced_acc: 0.5287 - lr: 0.0010\n",
            "Epoch 72/300\n",
            "83/83 [==============================] - ETA: 0s - loss: 0.0014 - accuracy: 1.0000 - balanced_acc: 0.9507\n",
            "Epoch 72: val_balanced_acc did not improve from 0.66926\n",
            "83/83 [==============================] - 52s 632ms/step - loss: 0.0014 - accuracy: 1.0000 - balanced_acc: 0.9507 - val_loss: 1.0245 - val_accuracy: 0.8653 - val_balanced_acc: 0.5493 - lr: 0.0010\n",
            "Epoch 73/300\n",
            "83/83 [==============================] - ETA: 0s - loss: 9.8504e-04 - accuracy: 1.0000 - balanced_acc: 0.9590\n",
            "Epoch 73: val_balanced_acc did not improve from 0.66926\n",
            "83/83 [==============================] - 52s 632ms/step - loss: 9.8504e-04 - accuracy: 1.0000 - balanced_acc: 0.9590 - val_loss: 1.0205 - val_accuracy: 0.8601 - val_balanced_acc: 0.5287 - lr: 0.0010\n",
            "Epoch 74/300\n",
            "83/83 [==============================] - ETA: 0s - loss: 0.0013 - accuracy: 1.0000 - balanced_acc: 0.9555\n",
            "Epoch 74: val_balanced_acc did not improve from 0.66926\n",
            "83/83 [==============================] - 52s 632ms/step - loss: 0.0013 - accuracy: 1.0000 - balanced_acc: 0.9555 - val_loss: 1.0406 - val_accuracy: 0.8601 - val_balanced_acc: 0.5264 - lr: 0.0010\n",
            "Epoch 75/300\n",
            "83/83 [==============================] - ETA: 0s - loss: 0.0013 - accuracy: 0.9998 - balanced_acc: 0.9618\n",
            "Epoch 75: val_balanced_acc did not improve from 0.66926\n",
            "83/83 [==============================] - 52s 632ms/step - loss: 0.0013 - accuracy: 0.9998 - balanced_acc: 0.9618 - val_loss: 1.0594 - val_accuracy: 0.8549 - val_balanced_acc: 0.5279 - lr: 0.0010\n",
            "Epoch 76/300\n",
            "83/83 [==============================] - ETA: 0s - loss: 0.0011 - accuracy: 1.0000 - balanced_acc: 0.9653\n",
            "Epoch 76: val_balanced_acc did not improve from 0.66926\n",
            "83/83 [==============================] - 53s 633ms/step - loss: 0.0011 - accuracy: 1.0000 - balanced_acc: 0.9653 - val_loss: 1.0529 - val_accuracy: 0.8549 - val_balanced_acc: 0.5279 - lr: 0.0010\n",
            "Epoch 77/300\n",
            "83/83 [==============================] - ETA: 0s - loss: 8.6980e-04 - accuracy: 1.0000 - balanced_acc: 0.9662\n",
            "Epoch 77: val_balanced_acc did not improve from 0.66926\n",
            "83/83 [==============================] - 53s 633ms/step - loss: 8.6980e-04 - accuracy: 1.0000 - balanced_acc: 0.9662 - val_loss: 1.0683 - val_accuracy: 0.8601 - val_balanced_acc: 0.5287 - lr: 0.0010\n",
            "Epoch 78/300\n",
            "83/83 [==============================] - ETA: 0s - loss: 0.0013 - accuracy: 1.0000 - balanced_acc: 0.9610\n",
            "Epoch 78: val_balanced_acc did not improve from 0.66926\n",
            "83/83 [==============================] - 53s 633ms/step - loss: 0.0013 - accuracy: 1.0000 - balanced_acc: 0.9610 - val_loss: 1.0780 - val_accuracy: 0.8549 - val_balanced_acc: 0.5228 - lr: 0.0010\n",
            "Epoch 79/300\n",
            "83/83 [==============================] - ETA: 0s - loss: 7.3604e-04 - accuracy: 1.0000 - balanced_acc: 0.9538\n",
            "Epoch 79: val_balanced_acc did not improve from 0.66926\n",
            "83/83 [==============================] - 53s 633ms/step - loss: 7.3604e-04 - accuracy: 1.0000 - balanced_acc: 0.9538 - val_loss: 1.0880 - val_accuracy: 0.8549 - val_balanced_acc: 0.5228 - lr: 0.0010\n",
            "Epoch 80/300\n",
            "83/83 [==============================] - ETA: 0s - loss: 0.0013 - accuracy: 1.0000 - balanced_acc: 0.9618\n",
            "Epoch 80: val_balanced_acc did not improve from 0.66926\n",
            "83/83 [==============================] - 52s 632ms/step - loss: 0.0013 - accuracy: 1.0000 - balanced_acc: 0.9618 - val_loss: 1.1647 - val_accuracy: 0.8342 - val_balanced_acc: 0.4877 - lr: 0.0010\n",
            "Epoch 81/300\n",
            "83/83 [==============================] - ETA: 0s - loss: 0.1882 - accuracy: 0.9538 - balanced_acc: 0.8959\n",
            "Epoch 81: val_balanced_acc did not improve from 0.66926\n",
            "83/83 [==============================] - 53s 633ms/step - loss: 0.1882 - accuracy: 0.9538 - balanced_acc: 0.8959 - val_loss: 0.5889 - val_accuracy: 0.7927 - val_balanced_acc: 0.4673 - lr: 0.0010\n",
            "Epoch 82/300\n",
            "83/83 [==============================] - ETA: 0s - loss: 0.1257 - accuracy: 0.9578 - balanced_acc: 0.9038\n",
            "Epoch 82: val_balanced_acc did not improve from 0.66926\n",
            "83/83 [==============================] - 53s 633ms/step - loss: 0.1257 - accuracy: 0.9578 - balanced_acc: 0.9038 - val_loss: 0.8024 - val_accuracy: 0.8342 - val_balanced_acc: 0.5191 - lr: 0.0010\n",
            "Epoch 83/300\n",
            "83/83 [==============================] - ETA: 0s - loss: 0.0046 - accuracy: 0.9998 - balanced_acc: 0.9543\n",
            "Epoch 83: val_balanced_acc did not improve from 0.66926\n",
            "83/83 [==============================] - 53s 633ms/step - loss: 0.0046 - accuracy: 0.9998 - balanced_acc: 0.9543 - val_loss: 0.8684 - val_accuracy: 0.8342 - val_balanced_acc: 0.5113 - lr: 0.0010\n",
            "Epoch 84/300\n",
            "83/83 [==============================] - ETA: 0s - loss: 0.0029 - accuracy: 1.0000 - balanced_acc: 0.9547\n",
            "Epoch 84: val_balanced_acc did not improve from 0.66926\n",
            "83/83 [==============================] - 52s 632ms/step - loss: 0.0029 - accuracy: 1.0000 - balanced_acc: 0.9547 - val_loss: 1.0093 - val_accuracy: 0.8342 - val_balanced_acc: 0.5164 - lr: 0.0010\n",
            "Epoch 85/300\n",
            "83/83 [==============================] - ETA: 0s - loss: 0.0031 - accuracy: 0.9994 - balanced_acc: 0.9584\n",
            "Epoch 85: ReduceLROnPlateau reducing learning rate to 0.0005000000237487257.\n",
            "\n",
            "Epoch 85: val_balanced_acc did not improve from 0.66926\n",
            "83/83 [==============================] - 53s 639ms/step - loss: 0.0031 - accuracy: 0.9994 - balanced_acc: 0.9584 - val_loss: 0.9865 - val_accuracy: 0.8497 - val_balanced_acc: 0.5270 - lr: 0.0010\n"
          ]
        },
        {
          "output_type": "display_data",
          "data": {
            "text/plain": [
              "<Figure size 432x288 with 2 Axes>"
            ],
            "image/png": "[encoded data removed]"
          },
          "metadata": {
            "needs_background": "light"
          }
        }
      ],
      "source": [
        "# define model\n",
        "model = define_base_model('resnet50', 143)\n",
        "model.summary()\n",
        "hst = model.fit(X_train, y_train, epochs=EPOCHS, batch_size=BATCH_SIZE, validation_data=(X_val, y_val), verbose=1,\n",
        "                    steps_per_epoch=X_train.shape[0] // BATCH_SIZE, \n",
        "                    callbacks=[learning_rate_reduction,early_stopping_monitor, mc])\n",
        "# learning curves\n",
        "summarize_diagnostics(hst)"
      ]
    },
    {
      "cell_type": "code",
      "execution_count": null,
      "metadata": {
        "colab": {
          "base_uri": "https://localhost:8080/",
          "height": 295
        },
        "id": "vXnW3lmCgln3",
        "outputId": "d328c303-30ff-467d-8394-41c71e6624d9"
      },
      "outputs": [
        {
          "output_type": "display_data",
          "data": {
            "text/plain": [
              "<Figure size 432x288 with 1 Axes>"
            ],
            "image/png": "[encoded data removed]"
          },
          "metadata": {
            "needs_background": "light"
          }
        }
      ],
      "source": [
        "# summarize history for accuracy\n",
        "plt.plot(hst.history['accuracy'])\n",
        "plt.plot(hst.history['balanced_acc'])\n",
        "plt.plot(hst.history['val_accuracy'])\n",
        "plt.plot(hst.history['val_balanced_acc'])\n",
        "plt.title('Model accuracy')\n",
        "plt.ylabel('Performance')\n",
        "plt.xlabel('epoch')\n",
        "plt.legend(['train accuracy', 'train balanced acc.', 'val. accuracy', 'val. balanced acc.'], loc='lower right')\n",
        "plt.show()"
      ]
    },
    {
      "cell_type": "code",
      "execution_count": null,
      "metadata": {
        "id": "rwwLiXUSG0IZ"
      },
      "outputs": [],
      "source": [
        "#Training\n",
        "#hst = model.fit(train_data_batches,\n",
        "#                    epochs = EPOCHS, validation_data = valid_data_batches,      \n",
        "                    #steps_per_epoch=X_train.shape[0] // BATCH_SIZE, \n",
        "#                    callbacks=[learning_rate_reduction,early_stopping_monitor, mc])\n"
      ]
    },
    {
      "cell_type": "markdown",
      "metadata": {
        "id": "icgjmi-4UIT-"
      },
      "source": [
        "#Evaluate"
      ]
    },
    {
      "cell_type": "code",
      "execution_count": null,
      "metadata": {
        "id": "SPz8NH1Oylv9"
      },
      "outputs": [],
      "source": [
        "#save last model\n",
        "model.save(last_model_fpath)"
      ]
    },
    {
      "cell_type": "code",
      "execution_count": null,
      "metadata": {
        "colab": {
          "base_uri": "https://localhost:8080/"
        },
        "id": "lS3ewyxO_anU",
        "outputId": "d90194eb-09bf-4450-feb3-518a2f88ecc6"
      },
      "outputs": [
        {
          "output_type": "stream",
          "name": "stdout",
          "text": [
            "accuracy on training 1.0\n",
            "balanced accuracy on training 1.0\n",
            "accuracy on validation 0.8393782383419689\n",
            "balanced accuracy on validation 0.8116174185860597\n",
            "Score on val data:  (0.7075140251880055, 0.8116174185860597, 0.7321991923516078, None)\n"
          ]
        }
      ],
      "source": [
        "last_model = load_model(last_model_fpath, custom_objects={'balanced_acc' : balanced_acc})\n",
        "y_train_pred = last_model.predict(X_train)\n",
        "y_val_pred = last_model.predict(X_val)\n",
        "\n",
        "#print('accuracy on training',accuracy_score(np.argmax(y_train, axis=1), np.argmax(y_train_pred, axis=1)))\n",
        "print('accuracy on training',accuracy_score(np.argmax(y_train, axis=1), np.argmax(y_train_pred, axis=1)))\n",
        "print('balanced accuracy on training',balanced_accuracy_score(np.argmax(y_train, axis=1), np.argmax(y_train_pred, axis=1)))\n",
        "print('accuracy on validation',accuracy_score(np.argmax(y_val, axis=1), np.argmax(y_val_pred, axis=1)))\n",
        "print('balanced accuracy on validation',balanced_accuracy_score(np.argmax(y_val, axis=1), np.argmax(y_val_pred, axis=1)))\n",
        "print('Score on val data: ',precision_recall_fscore_support(np.argmax(y_val, axis=1), np.argmax(y_val_pred, axis=1), average='macro'))"
      ]
    },
    {
      "cell_type": "code",
      "execution_count": null,
      "metadata": {
        "colab": {
          "base_uri": "https://localhost:8080/"
        },
        "id": "W3IyWjdGG4Xq",
        "outputId": "a2eda54a-e314-49cb-a900-45b9f18e1034"
      },
      "outputs": [
        {
          "output_type": "stream",
          "name": "stdout",
          "text": [
            "accuracy on training 1.0\n",
            "balanced accuracy on training 1.0\n",
            "accuracy on validation 0.844559585492228\n",
            "balanced accuracy on validation 0.8158091618021931\n",
            "Score on val data:  (0.729232288617596, 0.8158091618021931, 0.7421147059712002, None)\n"
          ]
        }
      ],
      "source": [
        "best_model = load_model(best_model_fpath, custom_objects={'balanced_acc' : balanced_acc})\n",
        "y_train_pred = best_model.predict(X_train)\n",
        "y_val_pred = best_model.predict(X_val)\n",
        "\n",
        "print('accuracy on training',accuracy_score(np.argmax(y_train, axis=1), np.argmax(y_train_pred, axis=1)))\n",
        "print('balanced accuracy on training',balanced_accuracy_score(np.argmax(y_train, axis=1), np.argmax(y_train_pred, axis=1)))\n",
        "print('accuracy on validation',accuracy_score(np.argmax(y_val, axis=1), np.argmax(y_val_pred, axis=1)))\n",
        "print('balanced accuracy on validation',balanced_accuracy_score(np.argmax(y_val, axis=1), np.argmax(y_val_pred, axis=1)))\n",
        "print('Score on val data: ',precision_recall_fscore_support(np.argmax(y_val, axis=1), np.argmax(y_val_pred, axis=1), average='macro'))"
      ]
    },
    {
      "cell_type": "markdown",
      "source": [
        "#Oversampling on feature map level"
      ],
      "metadata": {
        "id": "kE8Ziq-BlEP4"
      }
    },
    {
      "cell_type": "code",
      "source": [
        "last_model.summary()"
      ],
      "metadata": {
        "colab": {
          "base_uri": "https://localhost:8080/"
        },
        "id": "z0xovUlnlhdR",
        "outputId": "2fc4d7f3-e34c-4ad2-f687-065d3c8daed3"
      },
      "execution_count": null,
      "outputs": [
        {
          "output_type": "stream",
          "name": "stdout",
          "text": [
            "Model: \"model\"\n",
            "_________________________________________________________________\n",
            " Layer (type)                Output Shape              Param #   \n",
            "=================================================================\n",
            " input_1 (InputLayer)        [(None, 224, 224, 3)]     0         \n",
            "                                                                 \n",
            " resnet50 (Functional)       (None, 7, 7, 2048)        23587712  \n",
            "                                                                 \n",
            " global_average_pooling2d (G  (None, 2048)             0         \n",
            " lobalAveragePooling2D)                                          \n",
            "                                                                 \n",
            " dense (Dense)               (None, 1024)              2098176   \n",
            "                                                                 \n",
            " dropout (Dropout)           (None, 1024)              0         \n",
            "                                                                 \n",
            " dense_1 (Dense)             (None, 512)               524800    \n",
            "                                                                 \n",
            " dense_2 (Dense)             (None, 7)                 3591      \n",
            "                                                                 \n",
            "=================================================================\n",
            "Total params: 26,214,279\n",
            "Trainable params: 26,161,159\n",
            "Non-trainable params: 53,120\n",
            "_________________________________________________________________\n"
          ]
        }
      ]
    },
    {
      "cell_type": "code",
      "source": [
        "# summarize feature map shapes\n",
        "for i in range(len(best_model.layers)):\n",
        "    layer = best_model.layers[i]\n",
        "    # summarize output shape\n",
        "    print(i, layer.name, layer.output.shape)"
      ],
      "metadata": {
        "colab": {
          "base_uri": "https://localhost:8080/"
        },
        "id": "cEGv-ph5lKsY",
        "outputId": "6c8151a7-088a-485c-daa0-cb3babcb5f55"
      },
      "execution_count": null,
      "outputs": [
        {
          "output_type": "stream",
          "name": "stdout",
          "text": [
            "0 input_1 (None, 224, 224, 3)\n",
            "1 resnet50 (None, 7, 7, 2048)\n",
            "2 global_average_pooling2d (None, 2048)\n",
            "3 dense (None, 1024)\n",
            "4 dropout (None, 1024)\n",
            "5 dense_1 (None, 512)\n",
            "6 dense_2 (None, 7)\n"
          ]
        }
      ]
    },
    {
      "cell_type": "code",
      "source": [
        "# redefine model to output right after the first hidden layer\n",
        "i = 2\n",
        "model = Model(inputs=best_model.inputs, outputs=best_model.layers[i].output)"
      ],
      "metadata": {
        "id": "KqeSic6NmLsR"
      },
      "execution_count": null,
      "outputs": []
    },
    {
      "cell_type": "code",
      "source": [
        "# get feature map for first hidden layer\n",
        "X_train_fm = model.predict(X_train)\n",
        "X_val_fm = model.predict(X_val)"
      ],
      "metadata": {
        "id": "ZVHYG9Rwm28i"
      },
      "execution_count": null,
      "outputs": []
    },
    {
      "cell_type": "code",
      "source": [
        "X_train_fm_ov, y_train_ov = SMOTE_Data2(X_train_fm, y_train, True)\n",
        "print(X_train_fm_ov.shape)\n",
        "print(y_train_ov.shape)\n",
        "print(X_val.shape)\n",
        "print(y_val.shape)\n",
        "print('Counter train data: ', Counter(np.argmax(y_train_ov, axis=1)))\n",
        "print('Counter val data: ', Counter(np.argmax(y_val, axis=1)))"
      ],
      "metadata": {
        "colab": {
          "base_uri": "https://localhost:8080/"
        },
        "id": "19hK7aQNeAQo",
        "outputId": "63a071a1-493b-406c-9565-901f515d392f"
      },
      "execution_count": null,
      "outputs": [
        {
          "output_type": "stream",
          "name": "stdout",
          "text": [
            "(14077, 2048)\n",
            "(14077, 7)\n",
            "(193, 224, 224, 3)\n",
            "(193, 7)\n",
            "Counter train data:  Counter({5: 2011, 4: 2011, 2: 2011, 3: 2011, 0: 2011, 1: 2011, 6: 2011})\n",
            "Counter val data:  Counter({5: 123, 2: 22, 4: 21, 1: 15, 0: 8, 6: 3, 3: 1})\n"
          ]
        }
      ]
    },
    {
      "cell_type": "code",
      "source": [
        "model2 = Model(inputs=best_model.layers[i].output, outputs=best_model.layers[6].output)"
      ],
      "metadata": {
        "id": "5qP4iyYcnAYa"
      },
      "execution_count": null,
      "outputs": []
    },
    {
      "cell_type": "code",
      "source": [
        "best_model_fpath = '/content/drive/MyDrive/PHD/Model/Feature-Map-Ov/best_model_no.h5'\n",
        "last_model_fpath = '/content/drive/MyDrive/PHD/Model/Feature-Map-Ov/last_model_no.h5'\n",
        "model2.compile(optimizer = opt_SGD , loss = \"categorical_crossentropy\", metrics=['accuracy', balanced_acc])\n",
        "hst = model2.fit(X_train_fm_ov, y_train_ov, epochs=EPOCHS, batch_size=BATCH_SIZE, validation_data=(X_val_fm, y_val), verbose=1,\n",
        "                    steps_per_epoch=X_train.shape[0] // BATCH_SIZE, \n",
        "                    callbacks=[learning_rate_reduction,early_stopping_monitor, mc])"
      ],
      "metadata": {
        "colab": {
          "base_uri": "https://localhost:8080/"
        },
        "id": "Pzdjs0WbvDB0",
        "outputId": "0a0044c6-1ec8-44df-cb83-20f99b5417a1"
      },
      "execution_count": null,
      "outputs": [
        {
          "output_type": "stream",
          "name": "stdout",
          "text": [
            "Epoch 1/300\n",
            "67/83 [=======================>......] - ETA: 0s - loss: 0.0158 - accuracy: 0.9993 - balanced_acc: 0.9994\n",
            "Epoch 1: val_balanced_acc did not improve from 0.64849\n",
            "83/83 [==============================] - 1s 6ms/step - loss: 0.0162 - accuracy: 0.9992 - balanced_acc: 0.9993 - val_loss: 0.7247 - val_accuracy: 0.8497 - val_balanced_acc: 0.5282 - lr: 5.0000e-04\n",
            "Epoch 2/300\n",
            "71/83 [========================>.....] - ETA: 0s - loss: 0.0137 - accuracy: 0.9996 - balanced_acc: 0.9996\n",
            "Epoch 2: val_balanced_acc did not improve from 0.64849\n",
            "83/83 [==============================] - 0s 3ms/step - loss: 0.0136 - accuracy: 0.9996 - balanced_acc: 0.9996 - val_loss: 0.7371 - val_accuracy: 0.8394 - val_balanced_acc: 0.5262 - lr: 5.0000e-04\n",
            "Epoch 3/300\n",
            "68/83 [=======================>......] - ETA: 0s - loss: 0.0122 - accuracy: 0.9989 - balanced_acc: 0.9987\n",
            "Epoch 3: val_balanced_acc did not improve from 0.64849\n",
            "83/83 [==============================] - 0s 3ms/step - loss: 0.0128 - accuracy: 0.9989 - balanced_acc: 0.9988 - val_loss: 0.7479 - val_accuracy: 0.8394 - val_balanced_acc: 0.5262 - lr: 5.0000e-04\n",
            "Epoch 4/300\n",
            "72/83 [=========================>....] - ETA: 0s - loss: 0.0124 - accuracy: 0.9993 - balanced_acc: 0.9993\n",
            "Epoch 4: val_balanced_acc did not improve from 0.64849\n",
            "83/83 [==============================] - 0s 3ms/step - loss: 0.0123 - accuracy: 0.9994 - balanced_acc: 0.9994 - val_loss: 0.7517 - val_accuracy: 0.8394 - val_balanced_acc: 0.5262 - lr: 5.0000e-04\n",
            "Epoch 5/300\n",
            "71/83 [========================>.....] - ETA: 0s - loss: 0.0126 - accuracy: 0.9993 - balanced_acc: 0.9973\n",
            "Epoch 5: val_balanced_acc did not improve from 0.64849\n",
            "83/83 [==============================] - 0s 3ms/step - loss: 0.0127 - accuracy: 0.9994 - balanced_acc: 0.9977 - val_loss: 0.7572 - val_accuracy: 0.8446 - val_balanced_acc: 0.5304 - lr: 5.0000e-04\n",
            "Epoch 6/300\n",
            "72/83 [=========================>....] - ETA: 0s - loss: 0.0109 - accuracy: 0.9998 - balanced_acc: 0.9997\n",
            "Epoch 6: val_balanced_acc did not improve from 0.64849\n",
            "83/83 [==============================] - 0s 3ms/step - loss: 0.0114 - accuracy: 0.9998 - balanced_acc: 0.9998 - val_loss: 0.7606 - val_accuracy: 0.8446 - val_balanced_acc: 0.5304 - lr: 5.0000e-04\n",
            "Epoch 7/300\n",
            "72/83 [=========================>....] - ETA: 0s - loss: 0.0107 - accuracy: 0.9993 - balanced_acc: 0.9994\n",
            "Epoch 7: val_balanced_acc did not improve from 0.64849\n",
            "83/83 [==============================] - 0s 3ms/step - loss: 0.0107 - accuracy: 0.9994 - balanced_acc: 0.9995 - val_loss: 0.7686 - val_accuracy: 0.8446 - val_balanced_acc: 0.5304 - lr: 5.0000e-04\n",
            "Epoch 8/300\n",
            "71/83 [========================>.....] - ETA: 0s - loss: 0.0121 - accuracy: 0.9991 - balanced_acc: 0.9992\n",
            "Epoch 8: val_balanced_acc did not improve from 0.64849\n",
            "83/83 [==============================] - 0s 3ms/step - loss: 0.0116 - accuracy: 0.9992 - balanced_acc: 0.9993 - val_loss: 0.7666 - val_accuracy: 0.8446 - val_balanced_acc: 0.5304 - lr: 5.0000e-04\n",
            "Epoch 9/300\n",
            "71/83 [========================>.....] - ETA: 0s - loss: 0.0111 - accuracy: 0.9993 - balanced_acc: 0.9993\n",
            "Epoch 9: val_balanced_acc did not improve from 0.64849\n",
            "83/83 [==============================] - 0s 3ms/step - loss: 0.0111 - accuracy: 0.9994 - balanced_acc: 0.9994 - val_loss: 0.7698 - val_accuracy: 0.8446 - val_balanced_acc: 0.5304 - lr: 5.0000e-04\n",
            "Epoch 10/300\n",
            "70/83 [========================>.....] - ETA: 0s - loss: 0.0107 - accuracy: 0.9998 - balanced_acc: 0.9998\n",
            "Epoch 10: val_balanced_acc did not improve from 0.64849\n",
            "83/83 [==============================] - 0s 3ms/step - loss: 0.0104 - accuracy: 0.9998 - balanced_acc: 0.9999 - val_loss: 0.7705 - val_accuracy: 0.8446 - val_balanced_acc: 0.5304 - lr: 5.0000e-04\n",
            "Epoch 11/300\n",
            "69/83 [=======================>......] - ETA: 0s - loss: 0.0115 - accuracy: 0.9991 - balanced_acc: 0.9992\n",
            "Epoch 11: val_balanced_acc did not improve from 0.64849\n",
            "83/83 [==============================] - 0s 3ms/step - loss: 0.0111 - accuracy: 0.9992 - balanced_acc: 0.9993 - val_loss: 0.7722 - val_accuracy: 0.8446 - val_balanced_acc: 0.5304 - lr: 5.0000e-04\n",
            "Epoch 12/300\n",
            "71/83 [========================>.....] - ETA: 0s - loss: 0.0108 - accuracy: 0.9993 - balanced_acc: 0.9994\n",
            "Epoch 12: val_balanced_acc did not improve from 0.64849\n",
            "83/83 [==============================] - 0s 3ms/step - loss: 0.0105 - accuracy: 0.9994 - balanced_acc: 0.9995 - val_loss: 0.7730 - val_accuracy: 0.8446 - val_balanced_acc: 0.5304 - lr: 5.0000e-04\n",
            "Epoch 13/300\n",
            "70/83 [========================>.....] - ETA: 0s - loss: 0.0101 - accuracy: 0.9996 - balanced_acc: 0.9996\n",
            "Epoch 13: val_balanced_acc did not improve from 0.64849\n",
            "83/83 [==============================] - 0s 3ms/step - loss: 0.0101 - accuracy: 0.9996 - balanced_acc: 0.9997 - val_loss: 0.7772 - val_accuracy: 0.8446 - val_balanced_acc: 0.5304 - lr: 5.0000e-04\n",
            "Epoch 14/300\n",
            "68/83 [=======================>......] - ETA: 0s - loss: 0.0102 - accuracy: 0.9995 - balanced_acc: 0.9995\n",
            "Epoch 14: val_balanced_acc did not improve from 0.64849\n",
            "83/83 [==============================] - 0s 3ms/step - loss: 0.0104 - accuracy: 0.9996 - balanced_acc: 0.9996 - val_loss: 0.7782 - val_accuracy: 0.8394 - val_balanced_acc: 0.5262 - lr: 5.0000e-04\n",
            "Epoch 15/300\n",
            "70/83 [========================>.....] - ETA: 0s - loss: 0.0103 - accuracy: 0.9993 - balanced_acc: 0.9995\n",
            "Epoch 15: val_balanced_acc did not improve from 0.64849\n",
            "83/83 [==============================] - 0s 3ms/step - loss: 0.0102 - accuracy: 0.9992 - balanced_acc: 0.9993 - val_loss: 0.7816 - val_accuracy: 0.8446 - val_balanced_acc: 0.5304 - lr: 5.0000e-04\n",
            "Epoch 16/300\n",
            "70/83 [========================>.....] - ETA: 0s - loss: 0.0095 - accuracy: 0.9996 - balanced_acc: 0.9995\n",
            "Epoch 16: val_balanced_acc did not improve from 0.64849\n",
            "83/83 [==============================] - 0s 3ms/step - loss: 0.0095 - accuracy: 0.9996 - balanced_acc: 0.9996 - val_loss: 0.7839 - val_accuracy: 0.8446 - val_balanced_acc: 0.5304 - lr: 5.0000e-04\n",
            "Epoch 17/300\n",
            "70/83 [========================>.....] - ETA: 0s - loss: 0.0101 - accuracy: 0.9996 - balanced_acc: 0.9994\n",
            "Epoch 17: val_balanced_acc did not improve from 0.64849\n",
            "83/83 [==============================] - 0s 3ms/step - loss: 0.0098 - accuracy: 0.9996 - balanced_acc: 0.9995 - val_loss: 0.7847 - val_accuracy: 0.8394 - val_balanced_acc: 0.5262 - lr: 5.0000e-04\n",
            "Epoch 18/300\n",
            "69/83 [=======================>......] - ETA: 0s - loss: 0.0090 - accuracy: 1.0000 - balanced_acc: 1.0000\n",
            "Epoch 18: val_balanced_acc did not improve from 0.64849\n",
            "83/83 [==============================] - 0s 3ms/step - loss: 0.0090 - accuracy: 1.0000 - balanced_acc: 1.0000 - val_loss: 0.7900 - val_accuracy: 0.8446 - val_balanced_acc: 0.5304 - lr: 5.0000e-04\n",
            "Epoch 19/300\n",
            "71/83 [========================>.....] - ETA: 0s - loss: 0.0094 - accuracy: 0.9996 - balanced_acc: 0.9995\n",
            "Epoch 19: val_balanced_acc did not improve from 0.64849\n",
            "83/83 [==============================] - 0s 3ms/step - loss: 0.0093 - accuracy: 0.9996 - balanced_acc: 0.9996 - val_loss: 0.7902 - val_accuracy: 0.8446 - val_balanced_acc: 0.5304 - lr: 5.0000e-04\n",
            "Epoch 20/300\n",
            "70/83 [========================>.....] - ETA: 0s - loss: 0.0092 - accuracy: 0.9993 - balanced_acc: 0.9995\n",
            "Epoch 20: val_balanced_acc did not improve from 0.64849\n",
            "83/83 [==============================] - 0s 3ms/step - loss: 0.0090 - accuracy: 0.9994 - balanced_acc: 0.9996 - val_loss: 0.7919 - val_accuracy: 0.8446 - val_balanced_acc: 0.5304 - lr: 5.0000e-04\n",
            "Epoch 21/300\n",
            "69/83 [=======================>......] - ETA: 0s - loss: 0.0096 - accuracy: 1.0000 - balanced_acc: 1.0000\n",
            "Epoch 21: val_balanced_acc did not improve from 0.64849\n",
            "83/83 [==============================] - 0s 3ms/step - loss: 0.0097 - accuracy: 1.0000 - balanced_acc: 1.0000 - val_loss: 0.7958 - val_accuracy: 0.8446 - val_balanced_acc: 0.5304 - lr: 5.0000e-04\n",
            "Epoch 22/300\n",
            "69/83 [=======================>......] - ETA: 0s - loss: 0.0088 - accuracy: 0.9995 - balanced_acc: 0.9996\n",
            "Epoch 22: val_balanced_acc did not improve from 0.64849\n",
            "83/83 [==============================] - 0s 3ms/step - loss: 0.0087 - accuracy: 0.9996 - balanced_acc: 0.9997 - val_loss: 0.7943 - val_accuracy: 0.8446 - val_balanced_acc: 0.5304 - lr: 5.0000e-04\n",
            "Epoch 23/300\n",
            "70/83 [========================>.....] - ETA: 0s - loss: 0.0100 - accuracy: 0.9993 - balanced_acc: 0.9993\n",
            "Epoch 23: val_balanced_acc did not improve from 0.64849\n",
            "83/83 [==============================] - 0s 3ms/step - loss: 0.0101 - accuracy: 0.9991 - balanced_acc: 0.9991 - val_loss: 0.7934 - val_accuracy: 0.8497 - val_balanced_acc: 0.5346 - lr: 5.0000e-04\n",
            "Epoch 24/300\n",
            "70/83 [========================>.....] - ETA: 0s - loss: 0.0088 - accuracy: 0.9996 - balanced_acc: 0.9996\n",
            "Epoch 24: val_balanced_acc did not improve from 0.64849\n",
            "83/83 [==============================] - 0s 3ms/step - loss: 0.0088 - accuracy: 0.9994 - balanced_acc: 0.9996 - val_loss: 0.7964 - val_accuracy: 0.8497 - val_balanced_acc: 0.5346 - lr: 5.0000e-04\n",
            "Epoch 25/300\n",
            "71/83 [========================>.....] - ETA: 0s - loss: 0.0084 - accuracy: 0.9998 - balanced_acc: 0.9997\n",
            "Epoch 25: val_balanced_acc did not improve from 0.64849\n",
            "83/83 [==============================] - 0s 3ms/step - loss: 0.0087 - accuracy: 0.9996 - balanced_acc: 0.9996 - val_loss: 0.8001 - val_accuracy: 0.8446 - val_balanced_acc: 0.5304 - lr: 5.0000e-04\n",
            "Epoch 26/300\n",
            "70/83 [========================>.....] - ETA: 0s - loss: 0.0084 - accuracy: 0.9996 - balanced_acc: 0.9996\n",
            "Epoch 26: val_balanced_acc did not improve from 0.64849\n",
            "83/83 [==============================] - 0s 3ms/step - loss: 0.0084 - accuracy: 0.9996 - balanced_acc: 0.9997 - val_loss: 0.7996 - val_accuracy: 0.8394 - val_balanced_acc: 0.5262 - lr: 5.0000e-04\n",
            "Epoch 27/300\n",
            "70/83 [========================>.....] - ETA: 0s - loss: 0.0086 - accuracy: 0.9998 - balanced_acc: 0.9998\n",
            "Epoch 27: val_balanced_acc did not improve from 0.64849\n",
            "83/83 [==============================] - 0s 3ms/step - loss: 0.0085 - accuracy: 0.9998 - balanced_acc: 0.9998 - val_loss: 0.7988 - val_accuracy: 0.8446 - val_balanced_acc: 0.5304 - lr: 5.0000e-04\n",
            "Epoch 28/300\n",
            "71/83 [========================>.....] - ETA: 0s - loss: 0.0080 - accuracy: 0.9998 - balanced_acc: 0.9998\n",
            "Epoch 28: val_balanced_acc did not improve from 0.64849\n",
            "83/83 [==============================] - 0s 3ms/step - loss: 0.0083 - accuracy: 0.9998 - balanced_acc: 0.9998 - val_loss: 0.8034 - val_accuracy: 0.8497 - val_balanced_acc: 0.5346 - lr: 5.0000e-04\n",
            "Epoch 29/300\n",
            "69/83 [=======================>......] - ETA: 0s - loss: 0.0089 - accuracy: 0.9998 - balanced_acc: 0.9999\n",
            "Epoch 29: val_balanced_acc did not improve from 0.64849\n",
            "83/83 [==============================] - 0s 3ms/step - loss: 0.0085 - accuracy: 0.9998 - balanced_acc: 0.9999 - val_loss: 0.8060 - val_accuracy: 0.8497 - val_balanced_acc: 0.5346 - lr: 5.0000e-04\n",
            "Epoch 30/300\n",
            "70/83 [========================>.....] - ETA: 0s - loss: 0.0085 - accuracy: 0.9993 - balanced_acc: 0.9994\n",
            "Epoch 30: val_balanced_acc did not improve from 0.64849\n",
            "83/83 [==============================] - 0s 3ms/step - loss: 0.0085 - accuracy: 0.9994 - balanced_acc: 0.9995 - val_loss: 0.8075 - val_accuracy: 0.8497 - val_balanced_acc: 0.5346 - lr: 5.0000e-04\n",
            "Epoch 31/300\n",
            "70/83 [========================>.....] - ETA: 0s - loss: 0.0086 - accuracy: 0.9993 - balanced_acc: 0.9994\n",
            "Epoch 31: val_balanced_acc did not improve from 0.64849\n",
            "83/83 [==============================] - 0s 3ms/step - loss: 0.0087 - accuracy: 0.9994 - balanced_acc: 0.9995 - val_loss: 0.8078 - val_accuracy: 0.8497 - val_balanced_acc: 0.5346 - lr: 5.0000e-04\n",
            "Epoch 32/300\n",
            "71/83 [========================>.....] - ETA: 0s - loss: 0.0074 - accuracy: 0.9998 - balanced_acc: 0.9998\n",
            "Epoch 32: val_balanced_acc did not improve from 0.64849\n",
            "83/83 [==============================] - 0s 3ms/step - loss: 0.0074 - accuracy: 0.9998 - balanced_acc: 0.9998 - val_loss: 0.8065 - val_accuracy: 0.8446 - val_balanced_acc: 0.5304 - lr: 5.0000e-04\n",
            "Epoch 33/300\n",
            "69/83 [=======================>......] - ETA: 0s - loss: 0.0081 - accuracy: 0.9998 - balanced_acc: 0.9996\n",
            "Epoch 33: val_balanced_acc did not improve from 0.64849\n",
            "83/83 [==============================] - 0s 3ms/step - loss: 0.0079 - accuracy: 0.9998 - balanced_acc: 0.9997 - val_loss: 0.8070 - val_accuracy: 0.8394 - val_balanced_acc: 0.5262 - lr: 5.0000e-04\n",
            "Epoch 34/300\n",
            "69/83 [=======================>......] - ETA: 0s - loss: 0.0088 - accuracy: 0.9998 - balanced_acc: 0.9997\n",
            "Epoch 34: val_balanced_acc did not improve from 0.64849\n",
            "83/83 [==============================] - 0s 3ms/step - loss: 0.0087 - accuracy: 0.9996 - balanced_acc: 0.9995 - val_loss: 0.8071 - val_accuracy: 0.8446 - val_balanced_acc: 0.5304 - lr: 5.0000e-04\n",
            "Epoch 35/300\n",
            "71/83 [========================>.....] - ETA: 0s - loss: 0.0079 - accuracy: 0.9998 - balanced_acc: 0.9998\n",
            "Epoch 35: val_balanced_acc did not improve from 0.64849\n",
            "83/83 [==============================] - 0s 3ms/step - loss: 0.0078 - accuracy: 0.9998 - balanced_acc: 0.9999 - val_loss: 0.8127 - val_accuracy: 0.8394 - val_balanced_acc: 0.5262 - lr: 5.0000e-04\n",
            "Epoch 36/300\n",
            "70/83 [========================>.....] - ETA: 0s - loss: 0.0080 - accuracy: 0.9998 - balanced_acc: 0.9997\n",
            "Epoch 36: val_balanced_acc did not improve from 0.64849\n",
            "83/83 [==============================] - 0s 3ms/step - loss: 0.0079 - accuracy: 0.9998 - balanced_acc: 0.9998 - val_loss: 0.8121 - val_accuracy: 0.8446 - val_balanced_acc: 0.5304 - lr: 5.0000e-04\n",
            "Epoch 37/300\n",
            "69/83 [=======================>......] - ETA: 0s - loss: 0.0081 - accuracy: 1.0000 - balanced_acc: 0.9979\n",
            "Epoch 37: val_balanced_acc did not improve from 0.64849\n",
            "83/83 [==============================] - 0s 3ms/step - loss: 0.0078 - accuracy: 1.0000 - balanced_acc: 0.9983 - val_loss: 0.8141 - val_accuracy: 0.8446 - val_balanced_acc: 0.5304 - lr: 5.0000e-04\n",
            "Epoch 38/300\n",
            "70/83 [========================>.....] - ETA: 0s - loss: 0.0081 - accuracy: 0.9996 - balanced_acc: 0.9996\n",
            "Epoch 38: val_balanced_acc did not improve from 0.64849\n",
            "83/83 [==============================] - 0s 3ms/step - loss: 0.0083 - accuracy: 0.9996 - balanced_acc: 0.9997 - val_loss: 0.8149 - val_accuracy: 0.8446 - val_balanced_acc: 0.5304 - lr: 5.0000e-04\n",
            "Epoch 39/300\n",
            "70/83 [========================>.....] - ETA: 0s - loss: 0.0075 - accuracy: 0.9998 - balanced_acc: 0.9998\n",
            "Epoch 39: val_balanced_acc did not improve from 0.64849\n",
            "83/83 [==============================] - 0s 3ms/step - loss: 0.0072 - accuracy: 0.9998 - balanced_acc: 0.9999 - val_loss: 0.8164 - val_accuracy: 0.8446 - val_balanced_acc: 0.5304 - lr: 5.0000e-04\n",
            "Epoch 40/300\n",
            "68/83 [=======================>......] - ETA: 0s - loss: 0.0075 - accuracy: 0.9998 - balanced_acc: 0.9997\n",
            "Epoch 40: val_balanced_acc did not improve from 0.64849\n",
            "83/83 [==============================] - 0s 3ms/step - loss: 0.0075 - accuracy: 0.9998 - balanced_acc: 0.9998 - val_loss: 0.8173 - val_accuracy: 0.8446 - val_balanced_acc: 0.5304 - lr: 5.0000e-04\n",
            "Epoch 41/300\n",
            "70/83 [========================>.....] - ETA: 0s - loss: 0.0079 - accuracy: 0.9989 - balanced_acc: 0.9988\n",
            "Epoch 41: val_balanced_acc did not improve from 0.64849\n",
            "83/83 [==============================] - 0s 3ms/step - loss: 0.0081 - accuracy: 0.9991 - balanced_acc: 0.9990 - val_loss: 0.8182 - val_accuracy: 0.8446 - val_balanced_acc: 0.5304 - lr: 5.0000e-04\n",
            "Epoch 42/300\n",
            "69/83 [=======================>......] - ETA: 0s - loss: 0.0064 - accuracy: 1.0000 - balanced_acc: 1.0000\n",
            "Epoch 42: val_balanced_acc did not improve from 0.64849\n",
            "83/83 [==============================] - 0s 3ms/step - loss: 0.0068 - accuracy: 1.0000 - balanced_acc: 1.0000 - val_loss: 0.8170 - val_accuracy: 0.8446 - val_balanced_acc: 0.5304 - lr: 5.0000e-04\n",
            "Epoch 43/300\n",
            "70/83 [========================>.....] - ETA: 0s - loss: 0.0075 - accuracy: 1.0000 - balanced_acc: 1.0000\n",
            "Epoch 43: val_balanced_acc did not improve from 0.64849\n",
            "83/83 [==============================] - 0s 3ms/step - loss: 0.0075 - accuracy: 1.0000 - balanced_acc: 1.0000 - val_loss: 0.8208 - val_accuracy: 0.8446 - val_balanced_acc: 0.5304 - lr: 5.0000e-04\n",
            "Epoch 44/300\n",
            "68/83 [=======================>......] - ETA: 0s - loss: 0.0072 - accuracy: 0.9998 - balanced_acc: 0.9998\n",
            "Epoch 44: val_balanced_acc did not improve from 0.64849\n",
            "83/83 [==============================] - 0s 3ms/step - loss: 0.0072 - accuracy: 0.9998 - balanced_acc: 0.9998 - val_loss: 0.8230 - val_accuracy: 0.8446 - val_balanced_acc: 0.5304 - lr: 5.0000e-04\n",
            "Epoch 45/300\n",
            "70/83 [========================>.....] - ETA: 0s - loss: 0.0074 - accuracy: 0.9996 - balanced_acc: 0.9995\n",
            "Epoch 45: val_balanced_acc did not improve from 0.64849\n",
            "83/83 [==============================] - 0s 3ms/step - loss: 0.0077 - accuracy: 0.9996 - balanced_acc: 0.9996 - val_loss: 0.8208 - val_accuracy: 0.8446 - val_balanced_acc: 0.5304 - lr: 5.0000e-04\n",
            "Epoch 46/300\n",
            "70/83 [========================>.....] - ETA: 0s - loss: 0.0070 - accuracy: 0.9998 - balanced_acc: 0.9998\n",
            "Epoch 46: val_balanced_acc did not improve from 0.64849\n",
            "83/83 [==============================] - 0s 3ms/step - loss: 0.0071 - accuracy: 0.9998 - balanced_acc: 0.9999 - val_loss: 0.8223 - val_accuracy: 0.8446 - val_balanced_acc: 0.5304 - lr: 5.0000e-04\n",
            "Epoch 47/300\n",
            "83/83 [==============================] - ETA: 0s - loss: 0.0079 - accuracy: 0.9994 - balanced_acc: 0.9994\n",
            "Epoch 47: val_balanced_acc did not improve from 0.64849\n",
            "83/83 [==============================] - 0s 4ms/step - loss: 0.0079 - accuracy: 0.9994 - balanced_acc: 0.9994 - val_loss: 0.8253 - val_accuracy: 0.8446 - val_balanced_acc: 0.5304 - lr: 5.0000e-04\n",
            "Epoch 48/300\n",
            "71/83 [========================>.....] - ETA: 0s - loss: 0.0071 - accuracy: 0.9996 - balanced_acc: 0.9996\n",
            "Epoch 48: val_balanced_acc did not improve from 0.64849\n",
            "83/83 [==============================] - 0s 3ms/step - loss: 0.0070 - accuracy: 0.9996 - balanced_acc: 0.9997 - val_loss: 0.8268 - val_accuracy: 0.8446 - val_balanced_acc: 0.5304 - lr: 5.0000e-04\n",
            "Epoch 49/300\n",
            "70/83 [========================>.....] - ETA: 0s - loss: 0.0072 - accuracy: 0.9996 - balanced_acc: 0.9995\n",
            "Epoch 49: val_balanced_acc did not improve from 0.64849\n",
            "83/83 [==============================] - 0s 3ms/step - loss: 0.0072 - accuracy: 0.9996 - balanced_acc: 0.9996 - val_loss: 0.8281 - val_accuracy: 0.8446 - val_balanced_acc: 0.5304 - lr: 5.0000e-04\n",
            "Epoch 50/300\n",
            "69/83 [=======================>......] - ETA: 0s - loss: 0.0080 - accuracy: 0.9993 - balanced_acc: 0.9993\n",
            "Epoch 50: val_balanced_acc did not improve from 0.64849\n",
            "83/83 [==============================] - 0s 3ms/step - loss: 0.0077 - accuracy: 0.9994 - balanced_acc: 0.9994 - val_loss: 0.8302 - val_accuracy: 0.8446 - val_balanced_acc: 0.5304 - lr: 5.0000e-04\n",
            "Epoch 51/300\n",
            "69/83 [=======================>......] - ETA: 0s - loss: 0.0072 - accuracy: 0.9998 - balanced_acc: 0.9998\n",
            "Epoch 51: val_balanced_acc did not improve from 0.64849\n",
            "83/83 [==============================] - 0s 3ms/step - loss: 0.0073 - accuracy: 0.9996 - balanced_acc: 0.9996 - val_loss: 0.8313 - val_accuracy: 0.8446 - val_balanced_acc: 0.5304 - lr: 5.0000e-04\n",
            "Epoch 52/300\n",
            "70/83 [========================>.....] - ETA: 0s - loss: 0.0064 - accuracy: 1.0000 - balanced_acc: 1.0000\n",
            "Epoch 52: val_balanced_acc did not improve from 0.64849\n",
            "83/83 [==============================] - 0s 3ms/step - loss: 0.0063 - accuracy: 1.0000 - balanced_acc: 1.0000 - val_loss: 0.8332 - val_accuracy: 0.8446 - val_balanced_acc: 0.5304 - lr: 5.0000e-04\n",
            "Epoch 53/300\n",
            "69/83 [=======================>......] - ETA: 0s - loss: 0.0069 - accuracy: 0.9995 - balanced_acc: 0.9997\n",
            "Epoch 53: val_balanced_acc did not improve from 0.64849\n",
            "83/83 [==============================] - 0s 3ms/step - loss: 0.0067 - accuracy: 0.9996 - balanced_acc: 0.9997 - val_loss: 0.8365 - val_accuracy: 0.8446 - val_balanced_acc: 0.5304 - lr: 5.0000e-04\n",
            "Epoch 54/300\n",
            "69/83 [=======================>......] - ETA: 0s - loss: 0.0075 - accuracy: 1.0000 - balanced_acc: 1.0000\n",
            "Epoch 54: val_balanced_acc did not improve from 0.64849\n",
            "83/83 [==============================] - 0s 3ms/step - loss: 0.0072 - accuracy: 1.0000 - balanced_acc: 1.0000 - val_loss: 0.8372 - val_accuracy: 0.8446 - val_balanced_acc: 0.5304 - lr: 5.0000e-04\n",
            "Epoch 55/300\n",
            "69/83 [=======================>......] - ETA: 0s - loss: 0.0072 - accuracy: 0.9998 - balanced_acc: 0.9997\n",
            "Epoch 55: val_balanced_acc did not improve from 0.64849\n",
            "83/83 [==============================] - 0s 3ms/step - loss: 0.0070 - accuracy: 0.9996 - balanced_acc: 0.9996 - val_loss: 0.8388 - val_accuracy: 0.8446 - val_balanced_acc: 0.5304 - lr: 5.0000e-04\n",
            "Epoch 56/300\n",
            "70/83 [========================>.....] - ETA: 0s - loss: 0.0065 - accuracy: 1.0000 - balanced_acc: 1.0000\n",
            "Epoch 56: val_balanced_acc did not improve from 0.64849\n",
            "83/83 [==============================] - 0s 3ms/step - loss: 0.0067 - accuracy: 1.0000 - balanced_acc: 1.0000 - val_loss: 0.8411 - val_accuracy: 0.8497 - val_balanced_acc: 0.5346 - lr: 5.0000e-04\n",
            "Epoch 57/300\n",
            "69/83 [=======================>......] - ETA: 0s - loss: 0.0063 - accuracy: 1.0000 - balanced_acc: 1.0000\n",
            "Epoch 57: val_balanced_acc did not improve from 0.64849\n",
            "83/83 [==============================] - 0s 3ms/step - loss: 0.0062 - accuracy: 1.0000 - balanced_acc: 1.0000 - val_loss: 0.8412 - val_accuracy: 0.8446 - val_balanced_acc: 0.5304 - lr: 5.0000e-04\n",
            "Epoch 58/300\n",
            "69/83 [=======================>......] - ETA: 0s - loss: 0.0076 - accuracy: 0.9998 - balanced_acc: 0.9998\n",
            "Epoch 58: val_balanced_acc did not improve from 0.64849\n",
            "83/83 [==============================] - 0s 3ms/step - loss: 0.0073 - accuracy: 0.9998 - balanced_acc: 0.9998 - val_loss: 0.8419 - val_accuracy: 0.8446 - val_balanced_acc: 0.5304 - lr: 5.0000e-04\n",
            "Epoch 59/300\n",
            "70/83 [========================>.....] - ETA: 0s - loss: 0.0065 - accuracy: 1.0000 - balanced_acc: 1.0000\n",
            "Epoch 59: val_balanced_acc did not improve from 0.64849\n",
            "83/83 [==============================] - 0s 3ms/step - loss: 0.0066 - accuracy: 0.9998 - balanced_acc: 0.9998 - val_loss: 0.8454 - val_accuracy: 0.8497 - val_balanced_acc: 0.5346 - lr: 5.0000e-04\n",
            "Epoch 60/300\n",
            "69/83 [=======================>......] - ETA: 0s - loss: 0.0068 - accuracy: 1.0000 - balanced_acc: 1.0000\n",
            "Epoch 60: val_balanced_acc did not improve from 0.64849\n",
            "83/83 [==============================] - 0s 3ms/step - loss: 0.0064 - accuracy: 1.0000 - balanced_acc: 1.0000 - val_loss: 0.8429 - val_accuracy: 0.8446 - val_balanced_acc: 0.5304 - lr: 5.0000e-04\n",
            "Epoch 61/300\n",
            "67/83 [=======================>......] - ETA: 0s - loss: 0.0069 - accuracy: 0.9995 - balanced_acc: 0.9996\n",
            "Epoch 61: val_balanced_acc did not improve from 0.64849\n",
            "83/83 [==============================] - 0s 3ms/step - loss: 0.0068 - accuracy: 0.9996 - balanced_acc: 0.9996 - val_loss: 0.8436 - val_accuracy: 0.8446 - val_balanced_acc: 0.5304 - lr: 5.0000e-04\n",
            "Epoch 62/300\n",
            "68/83 [=======================>......] - ETA: 0s - loss: 0.0064 - accuracy: 0.9998 - balanced_acc: 0.9999\n",
            "Epoch 62: val_balanced_acc did not improve from 0.64849\n",
            "83/83 [==============================] - 0s 3ms/step - loss: 0.0067 - accuracy: 0.9996 - balanced_acc: 0.9998 - val_loss: 0.8477 - val_accuracy: 0.8446 - val_balanced_acc: 0.5304 - lr: 5.0000e-04\n",
            "Epoch 63/300\n",
            "67/83 [=======================>......] - ETA: 0s - loss: 0.0058 - accuracy: 1.0000 - balanced_acc: 1.0000\n",
            "Epoch 63: val_balanced_acc did not improve from 0.64849\n",
            "83/83 [==============================] - 0s 3ms/step - loss: 0.0058 - accuracy: 1.0000 - balanced_acc: 1.0000 - val_loss: 0.8457 - val_accuracy: 0.8446 - val_balanced_acc: 0.5304 - lr: 5.0000e-04\n",
            "Epoch 64/300\n",
            "83/83 [==============================] - ETA: 0s - loss: 0.0070 - accuracy: 0.9994 - balanced_acc: 0.9994\n",
            "Epoch 64: val_balanced_acc did not improve from 0.64849\n",
            "83/83 [==============================] - 0s 3ms/step - loss: 0.0070 - accuracy: 0.9994 - balanced_acc: 0.9994 - val_loss: 0.8452 - val_accuracy: 0.8446 - val_balanced_acc: 0.5304 - lr: 5.0000e-04\n",
            "Epoch 65/300\n",
            "70/83 [========================>.....] - ETA: 0s - loss: 0.0060 - accuracy: 0.9998 - balanced_acc: 0.9998\n",
            "Epoch 65: val_balanced_acc did not improve from 0.64849\n",
            "83/83 [==============================] - 0s 3ms/step - loss: 0.0063 - accuracy: 0.9998 - balanced_acc: 0.9998 - val_loss: 0.8460 - val_accuracy: 0.8446 - val_balanced_acc: 0.5304 - lr: 5.0000e-04\n",
            "Epoch 66/300\n",
            "70/83 [========================>.....] - ETA: 0s - loss: 0.0061 - accuracy: 0.9996 - balanced_acc: 0.9995\n",
            "Epoch 66: val_balanced_acc did not improve from 0.64849\n",
            "83/83 [==============================] - 0s 3ms/step - loss: 0.0059 - accuracy: 0.9996 - balanced_acc: 0.9996 - val_loss: 0.8478 - val_accuracy: 0.8446 - val_balanced_acc: 0.5304 - lr: 5.0000e-04\n",
            "Epoch 67/300\n",
            "68/83 [=======================>......] - ETA: 0s - loss: 0.0060 - accuracy: 1.0000 - balanced_acc: 1.0000\n",
            "Epoch 67: val_balanced_acc did not improve from 0.64849\n",
            "83/83 [==============================] - 0s 3ms/step - loss: 0.0061 - accuracy: 1.0000 - balanced_acc: 1.0000 - val_loss: 0.8508 - val_accuracy: 0.8446 - val_balanced_acc: 0.5304 - lr: 5.0000e-04\n",
            "Epoch 68/300\n",
            "82/83 [============================>.] - ETA: 0s - loss: 0.0063 - accuracy: 1.0000 - balanced_acc: 1.0000\n",
            "Epoch 68: val_balanced_acc did not improve from 0.64849\n",
            "83/83 [==============================] - 0s 4ms/step - loss: 0.0063 - accuracy: 1.0000 - balanced_acc: 1.0000 - val_loss: 0.8549 - val_accuracy: 0.8446 - val_balanced_acc: 0.5304 - lr: 5.0000e-04\n",
            "Epoch 69/300\n",
            "82/83 [============================>.] - ETA: 0s - loss: 0.0062 - accuracy: 0.9998 - balanced_acc: 0.9998\n",
            "Epoch 69: val_balanced_acc did not improve from 0.64849\n",
            "83/83 [==============================] - 0s 4ms/step - loss: 0.0062 - accuracy: 0.9998 - balanced_acc: 0.9998 - val_loss: 0.8514 - val_accuracy: 0.8446 - val_balanced_acc: 0.5304 - lr: 5.0000e-04\n",
            "Epoch 70/300\n",
            "69/83 [=======================>......] - ETA: 0s - loss: 0.0050 - accuracy: 1.0000 - balanced_acc: 1.0000\n",
            "Epoch 70: val_balanced_acc did not improve from 0.64849\n",
            "83/83 [==============================] - 0s 3ms/step - loss: 0.0052 - accuracy: 1.0000 - balanced_acc: 1.0000 - val_loss: 0.8531 - val_accuracy: 0.8446 - val_balanced_acc: 0.5304 - lr: 5.0000e-04\n",
            "Epoch 71/300\n",
            "70/83 [========================>.....] - ETA: 0s - loss: 0.0067 - accuracy: 0.9991 - balanced_acc: 0.9991\n",
            "Epoch 71: val_balanced_acc did not improve from 0.64849\n",
            "83/83 [==============================] - 0s 3ms/step - loss: 0.0065 - accuracy: 0.9992 - balanced_acc: 0.9993 - val_loss: 0.8579 - val_accuracy: 0.8446 - val_balanced_acc: 0.5304 - lr: 5.0000e-04\n",
            "Epoch 72/300\n",
            "69/83 [=======================>......] - ETA: 0s - loss: 0.0059 - accuracy: 0.9998 - balanced_acc: 0.9999\n",
            "Epoch 72: val_balanced_acc did not improve from 0.64849\n",
            "83/83 [==============================] - 0s 3ms/step - loss: 0.0058 - accuracy: 0.9998 - balanced_acc: 0.9999 - val_loss: 0.8572 - val_accuracy: 0.8446 - val_balanced_acc: 0.5304 - lr: 5.0000e-04\n",
            "Epoch 73/300\n",
            "67/83 [=======================>......] - ETA: 0s - loss: 0.0060 - accuracy: 0.9998 - balanced_acc: 0.9998\n",
            "Epoch 73: ReduceLROnPlateau reducing learning rate to 0.0002500000118743628.\n",
            "\n",
            "Epoch 73: val_balanced_acc did not improve from 0.64849\n",
            "83/83 [==============================] - 0s 3ms/step - loss: 0.0059 - accuracy: 0.9998 - balanced_acc: 0.9998 - val_loss: 0.8577 - val_accuracy: 0.8446 - val_balanced_acc: 0.5304 - lr: 5.0000e-04\n"
          ]
        }
      ]
    },
    {
      "cell_type": "code",
      "source": [
        "# get feature map for first hidden layer\n",
        "y_train_pred = model2.predict(X_train_fm_ov)\n",
        "y_val_pred = model2.predict(X_val_fm)"
      ],
      "metadata": {
        "id": "IW-_U6vFpIci"
      },
      "execution_count": null,
      "outputs": []
    },
    {
      "cell_type": "code",
      "source": [
        "print('accuracy on training',accuracy_score(np.argmax(y_train_ov, axis=1), np.argmax(y_train_pred, axis=1)))\n",
        "print('balanced accuracy on training',balanced_accuracy_score(np.argmax(y_train_ov, axis=1), np.argmax(y_train_pred, axis=1)))\n",
        "print('accuracy on validation',accuracy_score(np.argmax(y_val, axis=1), np.argmax(y_val_pred, axis=1)))\n",
        "print('balanced accuracy on validation',balanced_accuracy_score(np.argmax(y_val, axis=1), np.argmax(y_val_pred, axis=1)))\n",
        "print('Score on val data: ',precision_recall_fscore_support(np.argmax(y_val, axis=1), np.argmax(y_val_pred, axis=1), average='macro'))"
      ],
      "metadata": {
        "colab": {
          "base_uri": "https://localhost:8080/"
        },
        "id": "OLop0YK-ZK40",
        "outputId": "8049aaa6-fe95-48c5-a59c-e0f80881a756"
      },
      "execution_count": null,
      "outputs": [
        {
          "output_type": "stream",
          "name": "stdout",
          "text": [
            "accuracy on training 1.0\n",
            "balanced accuracy on training 1.0\n",
            "accuracy on validation 0.844559585492228\n",
            "balanced accuracy on validation 0.818420139674495\n",
            "Score on val data:  (0.7117326730615294, 0.818420139674495, 0.7372720983616867, None)\n"
          ]
        }
      ]
    },
    {
      "cell_type": "markdown",
      "metadata": {
        "id": "iDRWiTnO0MGh"
      },
      "source": [
        "#Cut-off"
      ]
    },
    {
      "cell_type": "code",
      "execution_count": null,
      "metadata": {
        "id": "tGnCoIdLyDHS"
      },
      "outputs": [],
      "source": [
        "df_val_pred = pd.DataFrame(y_val_pred, columns = ['AKIEC', 'BCC', 'BKL', 'DF', 'MEL', 'NV', 'VASC'])"
      ]
    },
    {
      "cell_type": "code",
      "execution_count": null,
      "metadata": {
        "colab": {
          "base_uri": "https://localhost:8080/",
          "height": 357
        },
        "id": "QdyCbloQyWTC",
        "outputId": "bf99e5a8-0a41-4082-9f79-ed2427c2cb7b"
      },
      "outputs": [
        {
          "output_type": "execute_result",
          "data": {
            "text/plain": [
              "          AKIEC           BCC           BKL            DF           MEL  \\\n",
              "0  4.821702e-04  2.756448e-01  5.529662e-03  9.852396e-04  1.537411e-01   \n",
              "1  4.662416e-07  4.151099e-09  1.894820e-06  4.515778e-08  3.310879e-06   \n",
              "2  1.186690e-05  9.999872e-01  3.463412e-07  3.400474e-07  2.617644e-08   \n",
              "3  3.809937e-09  1.019540e-10  1.231168e-07  2.932361e-09  5.063271e-07   \n",
              "4  4.101572e-09  1.162179e-13  1.190527e-09  4.599266e-10  7.390812e-09   \n",
              "\n",
              "             NV          VASC  0.0  0.0125  0.025  0.0375  0.05  0.0625  \\\n",
              "0  5.635722e-01  4.475142e-05    1       1      1       1     1       1   \n",
              "1  9.999942e-01  1.023709e-07    1       0      0       0     0       0   \n",
              "2  4.117658e-10  1.042014e-07    1       0      0       0     0       0   \n",
              "3  9.999993e-01  1.004827e-07    1       0      0       0     0       0   \n",
              "4  1.000000e+00  6.998738e-12    1       0      0       0     0       0   \n",
              "\n",
              "   0.075  0.0875  0.1  0.1125  0.125  \n",
              "0      1       1    1       1      1  \n",
              "1      0       0    0       0      0  \n",
              "2      0       0    0       0      0  \n",
              "3      0       0    0       0      0  \n",
              "4      0       0    0       0      0  "
            ],
            "text/html": [
              "\n",
              "  <div id=\"df-1a557a29-c85d-4528-8f04-c9708ca79875\">\n",
              "    <div class=\"colab-df-container\">\n",
              "      <div>\n",
              "<style scoped>\n",
              "    .dataframe tbody tr th:only-of-type {\n",
              "        vertical-align: middle;\n",
              "    }\n",
              "\n",
              "    .dataframe tbody tr th {\n",
              "        vertical-align: top;\n",
              "    }\n",
              "\n",
              "    .dataframe thead th {\n",
              "        text-align: right;\n",
              "    }\n",
              "</style>\n",
              "<table border=\"1\" class=\"dataframe\">\n",
              "  <thead>\n",
              "    <tr style=\"text-align: right;\">\n",
              "      <th></th>\n",
              "      <th>AKIEC</th>\n",
              "      <th>BCC</th>\n",
              "      <th>BKL</th>\n",
              "      <th>DF</th>\n",
              "      <th>MEL</th>\n",
              "      <th>NV</th>\n",
              "      <th>VASC</th>\n",
              "      <th>0.0</th>\n",
              "      <th>0.0125</th>\n",
              "      <th>0.025</th>\n",
              "      <th>0.0375</th>\n",
              "      <th>0.05</th>\n",
              "      <th>0.0625</th>\n",
              "      <th>0.075</th>\n",
              "      <th>0.0875</th>\n",
              "      <th>0.1</th>\n",
              "      <th>0.1125</th>\n",
              "      <th>0.125</th>\n",
              "    </tr>\n",
              "  </thead>\n",
              "  <tbody>\n",
              "    <tr>\n",
              "      <th>0</th>\n",
              "      <td>4.821702e-04</td>\n",
              "      <td>2.756448e-01</td>\n",
              "      <td>5.529662e-03</td>\n",
              "      <td>9.852396e-04</td>\n",
              "      <td>1.537411e-01</td>\n",
              "      <td>5.635722e-01</td>\n",
              "      <td>4.475142e-05</td>\n",
              "      <td>1</td>\n",
              "      <td>1</td>\n",
              "      <td>1</td>\n",
              "      <td>1</td>\n",
              "      <td>1</td>\n",
              "      <td>1</td>\n",
              "      <td>1</td>\n",
              "      <td>1</td>\n",
              "      <td>1</td>\n",
              "      <td>1</td>\n",
              "      <td>1</td>\n",
              "    </tr>\n",
              "    <tr>\n",
              "      <th>1</th>\n",
              "      <td>4.662416e-07</td>\n",
              "      <td>4.151099e-09</td>\n",
              "      <td>1.894820e-06</td>\n",
              "      <td>4.515778e-08</td>\n",
              "      <td>3.310879e-06</td>\n",
              "      <td>9.999942e-01</td>\n",
              "      <td>1.023709e-07</td>\n",
              "      <td>1</td>\n",
              "      <td>0</td>\n",
              "      <td>0</td>\n",
              "      <td>0</td>\n",
              "      <td>0</td>\n",
              "      <td>0</td>\n",
              "      <td>0</td>\n",
              "      <td>0</td>\n",
              "      <td>0</td>\n",
              "      <td>0</td>\n",
              "      <td>0</td>\n",
              "    </tr>\n",
              "    <tr>\n",
              "      <th>2</th>\n",
              "      <td>1.186690e-05</td>\n",
              "      <td>9.999872e-01</td>\n",
              "      <td>3.463412e-07</td>\n",
              "      <td>3.400474e-07</td>\n",
              "      <td>2.617644e-08</td>\n",
              "      <td>4.117658e-10</td>\n",
              "      <td>1.042014e-07</td>\n",
              "      <td>1</td>\n",
              "      <td>0</td>\n",
              "      <td>0</td>\n",
              "      <td>0</td>\n",
              "      <td>0</td>\n",
              "      <td>0</td>\n",
              "      <td>0</td>\n",
              "      <td>0</td>\n",
              "      <td>0</td>\n",
              "      <td>0</td>\n",
              "      <td>0</td>\n",
              "    </tr>\n",
              "    <tr>\n",
              "      <th>3</th>\n",
              "      <td>3.809937e-09</td>\n",
              "      <td>1.019540e-10</td>\n",
              "      <td>1.231168e-07</td>\n",
              "      <td>2.932361e-09</td>\n",
              "      <td>5.063271e-07</td>\n",
              "      <td>9.999993e-01</td>\n",
              "      <td>1.004827e-07</td>\n",
              "      <td>1</td>\n",
              "      <td>0</td>\n",
              "      <td>0</td>\n",
              "      <td>0</td>\n",
              "      <td>0</td>\n",
              "      <td>0</td>\n",
              "      <td>0</td>\n",
              "      <td>0</td>\n",
              "      <td>0</td>\n",
              "      <td>0</td>\n",
              "      <td>0</td>\n",
              "    </tr>\n",
              "    <tr>\n",
              "      <th>4</th>\n",
              "      <td>4.101572e-09</td>\n",
              "      <td>1.162179e-13</td>\n",
              "      <td>1.190527e-09</td>\n",
              "      <td>4.599266e-10</td>\n",
              "      <td>7.390812e-09</td>\n",
              "      <td>1.000000e+00</td>\n",
              "      <td>6.998738e-12</td>\n",
              "      <td>1</td>\n",
              "      <td>0</td>\n",
              "      <td>0</td>\n",
              "      <td>0</td>\n",
              "      <td>0</td>\n",
              "      <td>0</td>\n",
              "      <td>0</td>\n",
              "      <td>0</td>\n",
              "      <td>0</td>\n",
              "      <td>0</td>\n",
              "      <td>0</td>\n",
              "    </tr>\n",
              "  </tbody>\n",
              "</table>\n",
              "</div>\n",
              "      <button class=\"colab-df-convert\" onclick=\"convertToInteractive('df-1a557a29-c85d-4528-8f04-c9708ca79875')\"\n",
              "              title=\"Convert this dataframe to an interactive table.\"\n",
              "              style=\"display:none;\">\n",
              "        \n",
              "  <svg xmlns=\"http://www.w3.org/2000/svg\" height=\"24px\"viewBox=\"0 0 24 24\"\n",
              "       width=\"24px\">\n",
              "    <path d=\"M0 0h24v24H0V0z\" fill=\"none\"/>\n",
              "    <path d=\"M18.56 5.44l.94 2.06.94-2.06 2.06-.94-2.06-.94-.94-2.06-.94 2.06-2.06.94zm-11 1L8.5 8.5l.94-2.06 2.06-.94-2.06-.94L8.5 2.5l-.94 2.06-2.06.94zm10 10l.94 2.06.94-2.06 2.06-.94-2.06-.94-.94-2.06-.94 2.06-2.06.94z\"/><path d=\"M17.41 7.96l-1.37-1.37c-.4-.4-.92-.59-1.43-.59-.52 0-1.04.2-1.43.59L10.3 9.45l-7.72 7.72c-.78.78-.78 2.05 0 2.83L4 21.41c.39.39.9.59 1.41.59.51 0 1.02-.2 1.41-.59l7.78-7.78 2.81-2.81c.8-.78.8-2.07 0-2.86zM5.41 20L4 18.59l7.72-7.72 1.47 1.35L5.41 20z\"/>\n",
              "  </svg>\n",
              "      </button>\n",
              "      \n",
              "  <style>\n",
              "    .colab-df-container {\n",
              "      display:flex;\n",
              "      flex-wrap:wrap;\n",
              "      gap: 12px;\n",
              "    }\n",
              "\n",
              "    .colab-df-convert {\n",
              "      background-color: #E8F0FE;\n",
              "      border: none;\n",
              "      border-radius: 50%;\n",
              "      cursor: pointer;\n",
              "      display: none;\n",
              "      fill: #1967D2;\n",
              "      height: 32px;\n",
              "      padding: 0 0 0 0;\n",
              "      width: 32px;\n",
              "    }\n",
              "\n",
              "    .colab-df-convert:hover {\n",
              "      background-color: #E2EBFA;\n",
              "      box-shadow: 0px 1px 2px rgba(60, 64, 67, 0.3), 0px 1px 3px 1px rgba(60, 64, 67, 0.15);\n",
              "      fill: #174EA6;\n",
              "    }\n",
              "\n",
              "    [theme=dark] .colab-df-convert {\n",
              "      background-color: #3B4455;\n",
              "      fill: #D2E3FC;\n",
              "    }\n",
              "\n",
              "    [theme=dark] .colab-df-convert:hover {\n",
              "      background-color: #434B5C;\n",
              "      box-shadow: 0px 1px 3px 1px rgba(0, 0, 0, 0.15);\n",
              "      filter: drop-shadow(0px 1px 2px rgba(0, 0, 0, 0.3));\n",
              "      fill: #FFFFFF;\n",
              "    }\n",
              "  </style>\n",
              "\n",
              "      <script>\n",
              "        const buttonEl =\n",
              "          document.querySelector('#df-1a557a29-c85d-4528-8f04-c9708ca79875 button.colab-df-convert');\n",
              "        buttonEl.style.display =\n",
              "          google.colab.kernel.accessAllowed ? 'block' : 'none';\n",
              "\n",
              "        async function convertToInteractive(key) {\n",
              "          const element = document.querySelector('#df-1a557a29-c85d-4528-8f04-c9708ca79875');\n",
              "          const dataTable =\n",
              "            await google.colab.kernel.invokeFunction('convertToInteractive',\n",
              "                                                     [key], {});\n",
              "          if (!dataTable) return;\n",
              "\n",
              "          const docLinkHtml = 'Like what you see? Visit the ' +\n",
              "            '<a target=\"_blank\" href=https://colab.research.google.com/notebooks/data_table.ipynb>data table notebook</a>'\n",
              "            + ' to learn more about interactive tables.';\n",
              "          element.innerHTML = '';\n",
              "          dataTable['output_type'] = 'display_data';\n",
              "          await google.colab.output.renderOutput(dataTable, element);\n",
              "          const docLink = document.createElement('div');\n",
              "          docLink.innerHTML = docLinkHtml;\n",
              "          element.appendChild(docLink);\n",
              "        }\n",
              "      </script>\n",
              "    </div>\n",
              "  </div>\n",
              "  "
            ]
          },
          "metadata": {},
          "execution_count": 58
        }
      ],
      "source": [
        "numbers = [float(x)/80 for x in range(11)]\n",
        "for i in numbers:\n",
        "    df_val_pred[i]= df_val_pred.MEL.map(lambda x: 1 if x > i else 0)\n",
        "df_val_pred.head()"
      ]
    },
    {
      "cell_type": "code",
      "execution_count": null,
      "metadata": {
        "id": "G4SQsRx73kgk"
      },
      "outputs": [],
      "source": [
        "y_val_true= [1 if x == 4 else 0 for x in np.argmax(y_val, axis=1)]"
      ]
    },
    {
      "cell_type": "code",
      "execution_count": null,
      "metadata": {
        "id": "QcUISWFi0J05"
      },
      "outputs": [],
      "source": [
        "#num = [0.0,0.05,0.1,0.15,0.2,0.25,0.3,0.35,0.4,0.45,0.5]\n",
        "cutoff_df = pd.DataFrame( columns = ['Probability','Accuracy','Sensitivity','Specificity'])\n",
        "for i in numbers:\n",
        "    cm1 = confusion_matrix(y_val_true, df_val_pred[i])\n",
        "    total1=sum(sum(cm1))\n",
        "    Accuracy = (cm1[0,0]+cm1[1,1])/total1\n",
        "    Specificity = cm1[0,0]/(cm1[0,0]+cm1[0,1])\n",
        "    Sensitivity = cm1[1,1]/(cm1[1,0]+cm1[1,1])\n",
        "    cutoff_df.loc[i] =[ i ,Accuracy,Sensitivity,Specificity]"
      ]
    },
    {
      "cell_type": "code",
      "execution_count": null,
      "metadata": {
        "id": "W31LSzov1tCt",
        "colab": {
          "base_uri": "https://localhost:8080/",
          "height": 265
        },
        "outputId": "ba772234-6454-4377-93ea-6ca88ef23017"
      },
      "outputs": [
        {
          "output_type": "display_data",
          "data": {
            "text/plain": [
              "<Figure size 432x288 with 1 Axes>"
            ],
            "image/png": "[encoded data removed]"
          },
          "metadata": {
            "needs_background": "light"
          }
        }
      ],
      "source": [
        "cutoff_df[['Accuracy','Sensitivity','Specificity']].plot()\n",
        "\n",
        "plt.show()"
      ]
    },
    {
      "cell_type": "code",
      "execution_count": null,
      "metadata": {
        "id": "P6CIKT94Jqye"
      },
      "outputs": [],
      "source": [
        "i = 0.025\n",
        "cm1 = confusion_matrix(y_val_true, df_val_pred[i])\n",
        "total1=sum(sum(cm1))\n",
        "Accuracy = (cm1[0,0]+cm1[1,1])/total1\n",
        "Specificity = cm1[0,0]/(cm1[0,0]+cm1[0,1])\n",
        "Sensitivity = cm1[1,1]/(cm1[1,0]+cm1[1,1])"
      ]
    },
    {
      "cell_type": "code",
      "execution_count": null,
      "metadata": {
        "id": "3U2tkFebL_VC",
        "colab": {
          "base_uri": "https://localhost:8080/"
        },
        "outputId": "10a88487-86f4-49a7-ca01-32066d7f6fdc"
      },
      "outputs": [
        {
          "output_type": "stream",
          "name": "stdout",
          "text": [
            "Accuracy:  0.9067357512953368\n",
            "Sensitivity:  0.9047619047619048\n",
            "Specificity:  0.9069767441860465\n"
          ]
        }
      ],
      "source": [
        "print('Accuracy: ', Accuracy)\n",
        "print('Sensitivity: ', Sensitivity)\n",
        "print('Specificity: ', Specificity)"
      ]
    },
    {
      "cell_type": "markdown",
      "metadata": {
        "id": "eaK4zbtoaAaC"
      },
      "source": [
        "#Confusion Metric on Validation Set"
      ]
    },
    {
      "cell_type": "code",
      "execution_count": null,
      "metadata": {
        "id": "YkPOFLehOmFg"
      },
      "outputs": [],
      "source": [
        "#change melanoma flag back to 4\n",
        "df_val_pred[df_val_pred[i] == 1] = 4\n",
        "#decode one-hot y_val_pred while use cut-off melanoma data\n",
        "condition = df_val_pred[i] == 4\n",
        "y_val_pred2 = np.where(condition, df_val_pred[i], np.argmax(y_val_pred, axis=1))"
      ]
    },
    {
      "cell_type": "code",
      "execution_count": null,
      "metadata": {
        "id": "LOVl6dWlTDLo",
        "colab": {
          "base_uri": "https://localhost:8080/"
        },
        "outputId": "ed2d1856-f5b1-4dbf-cbec-e49565c27ed5"
      },
      "outputs": [
        {
          "output_type": "stream",
          "name": "stdout",
          "text": [
            "Accuracy:  0.8238341968911918\n",
            "Balanced accuracy:  0.8253661553313121\n"
          ]
        }
      ],
      "source": [
        "print('Accuracy: ',accuracy_score(np.argmax(y_val, axis=1), y_val_pred2))\n",
        "print('Balanced accuracy: ',balanced_accuracy_score(np.argmax(y_val, axis=1), y_val_pred2))"
      ]
    },
    {
      "cell_type": "code",
      "execution_count": null,
      "metadata": {
        "id": "mqvYutTKRhR_",
        "colab": {
          "base_uri": "https://localhost:8080/"
        },
        "outputId": "76d047e2-c091-48f1-bfbd-25634e7274be"
      },
      "outputs": [
        {
          "output_type": "stream",
          "name": "stdout",
          "text": [
            "[[  4   1   2   0   0   1   0]\n",
            " [  1  12   0   2   0   0   0]\n",
            " [  0   0  16   0   5   1   0]\n",
            " [  0   0   0   1   0   0   0]\n",
            " [  0   0   2   0  19   0   0]\n",
            " [  0   4   4   0  11 104   0]\n",
            " [  0   0   0   0   0   0   3]]\n"
          ]
        }
      ],
      "source": [
        "#Get the confusion matrix\n",
        "cf_matrix = confusion_matrix(np.argmax(y_val, axis=1), y_val_pred2)\n",
        "print(cf_matrix)"
      ]
    },
    {
      "cell_type": "code",
      "execution_count": null,
      "metadata": {
        "id": "gVtvW3YeaLlC",
        "colab": {
          "base_uri": "https://localhost:8080/",
          "height": 340
        },
        "outputId": "f15b2345-e8c2-4a16-ac88-d0ed6a2dec2d"
      },
      "outputs": [
        {
          "output_type": "display_data",
          "data": {
            "text/plain": [
              "<Figure size 432x288 with 2 Axes>"
            ],
            "image/png": "[encoded data removed]"
          },
          "metadata": {
            "needs_background": "light"
          }
        }
      ],
      "source": [
        "ax = sns.heatmap(cf_matrix / cf_matrix.sum(axis=1, keepdims=True), annot=True, \n",
        "            cmap='Blues')\n",
        "\n",
        "ax.set_title('Confusion Matrix \\n');\n",
        "ax.set_xlabel('\\nPredicted')\n",
        "ax.set_ylabel('Actual ');\n",
        "\n",
        "## Ticket labels - List must be in alphabetical order\n",
        "ax.xaxis.set_ticklabels(['AKIEC', 'BCC', 'BKL', 'DF', 'MEL', 'NV', 'VASC'])\n",
        "ax.yaxis.set_ticklabels(['AKIEC', 'BCC', 'BKL', 'DF', 'MEL', 'NV', 'VASC'])\n",
        "\n",
        "plt.rcParams[\"figure.figsize\"] = (15,3)\n",
        "\n",
        "## Display the visualization of the Confusion Matrix.\n",
        "plt.xticks(rotation=45, ha='right')\n",
        "plt.yticks(rotation=0, ha='right')\n",
        "plt.show()"
      ]
    },
    {
      "cell_type": "code",
      "execution_count": null,
      "metadata": {
        "id": "Ey-1yjWGeKs7"
      },
      "outputs": [],
      "source": [
        "# ordered count of rows per unique label\n",
        "#labels_count = df_val['Labels'].value_counts().sort_index()\n",
        "\n",
        "#f = plt.figure(figsize=(15, 6))\n",
        "#s = sns.barplot(x=labels_count.index,y=labels_count.values)\n",
        "#s.set_xticklabels(s.get_xticklabels(), rotation = 30)"
      ]
    },
    {
      "cell_type": "markdown",
      "metadata": {
        "id": "3K908bbiYwbS"
      },
      "source": [
        "#Testing"
      ]
    },
    {
      "cell_type": "code",
      "execution_count": null,
      "metadata": {
        "id": "NeMY2yvMYxsC"
      },
      "outputs": [],
      "source": [
        "dir_test = '/content/drive/MyDrive/PHD/Datasets/isic2018/ISIC2018_Task3_Test_Input/'\n",
        "filepaths = sorted( filter( lambda x: (os.path.isfile(os.path.join(dir_test, x))) and (x.endswith('.jpg')),\n",
        "                        os.listdir(dir_test) ) )"
      ]
    },
    {
      "cell_type": "code",
      "execution_count": null,
      "metadata": {
        "id": "6ic95mefkpG3"
      },
      "outputs": [],
      "source": [
        "df_test = pd.DataFrame(filepaths, columns =['image'])\n",
        "df_test['FilePaths'] = dir_test + df_test['image']\n",
        "#df_test"
      ]
    },
    {
      "cell_type": "code",
      "execution_count": null,
      "metadata": {
        "id": "NBa1TxPuY8ni"
      },
      "outputs": [],
      "source": [
        "df_test['image_px'] = df_test['FilePaths'].map(lambda x: np.asarray(Image.open(x).resize(IMG_SIZE)))"
      ]
    },
    {
      "cell_type": "code",
      "execution_count": null,
      "metadata": {
        "colab": {
          "base_uri": "https://localhost:8080/"
        },
        "id": "60LYAT7VsNOZ",
        "outputId": "a3f50b8f-b95b-4adf-a25a-52494a331e0f"
      },
      "outputs": [
        {
          "output_type": "stream",
          "name": "stdout",
          "text": [
            "(1512, 224, 224, 3)\n"
          ]
        }
      ],
      "source": [
        "X_test = np.asarray(df_test['image_px'].tolist())\n",
        "print(np.array(X_test).shape)"
      ]
    },
    {
      "cell_type": "code",
      "execution_count": null,
      "metadata": {
        "id": "cXnnIIwC4cHE"
      },
      "outputs": [],
      "source": [
        "#preprocess\n",
        "X_test = preprocess_image_input(X_test)"
      ]
    },
    {
      "cell_type": "markdown",
      "metadata": {
        "id": "FF7ml90JZ8FK"
      },
      "source": [
        "Calculate y_pred from training and testing for analysis"
      ]
    },
    {
      "cell_type": "code",
      "source": [
        "X_test = model.predict(X_test)"
      ],
      "metadata": {
        "id": "KeDTXdaMLmyU"
      },
      "execution_count": null,
      "outputs": []
    },
    {
      "cell_type": "code",
      "execution_count": null,
      "metadata": {
        "colab": {
          "base_uri": "https://localhost:8080/"
        },
        "id": "dIX0AmEFNv3Y",
        "outputId": "a51f304a-8cf6-4b44-f4e2-22db04e63276"
      },
      "outputs": [
        {
          "output_type": "stream",
          "name": "stdout",
          "text": [
            "Y_pred2 (1512, 7)\n"
          ]
        }
      ],
      "source": [
        "# predicting\n",
        "#CHANGE THE MODEL IF NECESSARY\n",
        "Y_pred2 = model2.predict(X_test)\n",
        "print(\"Y_pred2\", Y_pred2.shape)"
      ]
    },
    {
      "cell_type": "code",
      "execution_count": null,
      "metadata": {
        "id": "7oeArO5CtxGb"
      },
      "outputs": [],
      "source": [
        "df_pred = pd.DataFrame(Y_pred2, columns = ['AKIEC', 'BCC', 'BKL', 'DF', 'MEL', 'NV', 'VASC'])\n",
        "df_pred['image'] = df_test['FilePaths'].map(lambda x: x.replace(dir_test, '').replace('.jpg', ''))\n",
        "df_pred = df_pred[['image', 'MEL', 'NV', 'BCC', 'AKIEC', 'BKL', 'DF', 'VASC']]\n",
        "df_pred.set_index(\"image\", inplace = True)"
      ]
    },
    {
      "cell_type": "code",
      "execution_count": null,
      "metadata": {
        "id": "9ynyd8PjT589"
      },
      "outputs": [],
      "source": [
        "#update MEL data using cut-off value\n",
        "df_pred.MEL[df_pred.MEL > i] = 1"
      ]
    },
    {
      "cell_type": "code",
      "execution_count": null,
      "metadata": {
        "id": "fjRdONoQVMq0"
      },
      "outputs": [],
      "source": [
        "df_pred.loc[df_pred.MEL > i, ['NV', 'BCC', 'AKIEC', 'BKL', 'DF', 'VASC']] = 0"
      ]
    },
    {
      "cell_type": "code",
      "execution_count": null,
      "metadata": {
        "id": "sOnjc3RJ0e4T"
      },
      "outputs": [],
      "source": [
        "df_pred.to_csv('/content/drive/MyDrive/PHD/Datasets/isic2018/response_Oversampling_featuremaps.csv')"
      ]
    },
    {
      "cell_type": "markdown",
      "source": [
        "result: 0.658"
      ],
      "metadata": {
        "id": "P0MghVs0tsGw"
      }
    },
    {
      "cell_type": "markdown",
      "metadata": {
        "id": "RcRGeofw-8tK"
      },
      "source": [
        "#Load ISIC 2018 Challange Data"
      ]
    },
    {
      "cell_type": "code",
      "execution_count": null,
      "metadata": {
        "id": "l3P7IjyLuZGY"
      },
      "outputs": [],
      "source": [
        "X_train, y_train, X_val, y_val = load_isic2018_dataset(train_under_frac = 0.7)"
      ]
    },
    {
      "cell_type": "code",
      "execution_count": null,
      "metadata": {
        "colab": {
          "base_uri": "https://localhost:8080/",
          "height": 512
        },
        "id": "2IncA-_o_n5w",
        "outputId": "6db08704-addd-42d9-9371-4d805a2db101"
      },
      "outputs": [
        {
          "data": {
            "text/plain": [
              "[Text(0, 0, 'DF'),\n",
              " Text(0, 0, 'VASC'),\n",
              " Text(0, 0, 'AKIEC'),\n",
              " Text(0, 0, 'BCC'),\n",
              " Text(0, 0, 'BKL'),\n",
              " Text(0, 0, 'MEL'),\n",
              " Text(0, 0, 'NV')]"
            ]
          },
          "execution_count": 5,
          "metadata": {},
          "output_type": "execute_result"
        },
        {
          "data": {
            "image/png": "[encoded data removed]",
            "text/plain": [
              "<Figure size 1080x432 with 1 Axes>"
            ]
          },
          "metadata": {},
          "output_type": "display_data"
        }
      ],
      "source": [
        "# ordered count of rows per unique label\n",
        "labels_count = y_train.value_counts(ascending=True)\n",
        "\n",
        "f = plt.figure(figsize=(15, 6))\n",
        "s = sns.barplot(x=labels_count.index,y=labels_count.values)\n",
        "s.set_xticklabels(s.get_xticklabels(), rotation = 30)"
      ]
    },
    {
      "cell_type": "markdown",
      "metadata": {
        "id": "AnKMKSb4Bkym"
      },
      "source": [
        "Plot 3 images per label"
      ]
    },
    {
      "cell_type": "code",
      "execution_count": null,
      "metadata": {
        "id": "jdnVuqbFBW3K"
      },
      "outputs": [],
      "source": [
        "def plot_images_per_label(df, label, cols: int, size: tuple):\n",
        "    fig, axs = plt.subplots(nrows=1, ncols=cols, figsize=size)\n",
        "\n",
        "    cntMax = cols\n",
        "    cntCur = 0\n",
        "    for index, row in df.iterrows():\n",
        "        if(y_train == label and cntCur < cntMax):\n",
        "            axs[cntCur].imshow(plt.imread(df.FilePaths[index]))\n",
        "            axs[cntCur].set_title(df.Labels[index])\n",
        "\n",
        "            cntCur += 1\n",
        "        else:\n",
        "            if(cntCur >= cntMax):\n",
        "                break\n",
        "    \n",
        "    plt.tight_layout()\n",
        "    plt.show()\n",
        "\n",
        "\n",
        "# unique labels\n",
        "#labels = sorted(df_train['Labels'].unique())\n",
        "#for label in range(7):\n",
        "#    plot_images_per_label(y_train, 3, (12,9))"
      ]
    },
    {
      "cell_type": "markdown",
      "metadata": {
        "id": "qRKKrNacAZtl"
      },
      "source": [
        "Drop duplicate images"
      ]
    },
    {
      "cell_type": "code",
      "execution_count": null,
      "metadata": {
        "id": "ERwfyPDHP-zC"
      },
      "outputs": [],
      "source": [
        "#df_group = pd.read_csv('/content/drive/MyDrive/PHD/Datasets/isic2018/ISIC2018_Task3_Training_LesionGroupings.csv') \n",
        "#df_train = df_train.set_index('image').join(df_group.set_index('image'))\n",
        "#df_train = df_train.drop_duplicates(subset=['lesion_id'])"
      ]
    },
    {
      "cell_type": "markdown",
      "metadata": {
        "id": "cNBXx28B9yGu"
      },
      "source": [
        "#DeepSMOTE Oversampling"
      ]
    },
    {
      "cell_type": "code",
      "execution_count": null,
      "metadata": {
        "id": "YmX_Uqbmj-tN"
      },
      "outputs": [],
      "source": [
        "from numpy import moveaxis\n",
        "from sklearn.neighbors import NearestNeighbors\n",
        "import torch\n",
        "import torch.nn as nn\n",
        "\n",
        "max_el = np.inf\n",
        "\n",
        "args = {}\n",
        "args['dim_h'] = 64         # factor controlling size of hidden layers\n",
        "args['n_channel'] = 3#1    # number of channels in the input data \n",
        "args['n_z'] = 600 #300     # number of dimensions in latent space. \n",
        "args['sigma'] = 1.0        # variance in n_z\n",
        "args['lambda'] = 0.01      # hyper param for weight of discriminator loss\n",
        "args['lr'] = 0.0002        # learning rate for Adam optimizer .000\n",
        "args['epochs'] = 300       # how many epochs to run for\n",
        "args['batch_size'] = 100   # batch size for SGD\n",
        "args['save'] = True        # save weights at each epoch of training if True\n",
        "args['train'] = True       # train networks if True, else load networks from\n",
        "args['patience'] = 20"
      ]
    },
    {
      "cell_type": "code",
      "execution_count": null,
      "metadata": {
        "id": "NydOdPMajEfT"
      },
      "outputs": [],
      "source": [
        "class Encoder(nn.Module):\n",
        "    def __init__(self, args):\n",
        "        super(Encoder, self).__init__()\n",
        "\n",
        "        self.n_channel = args['n_channel']\n",
        "        self.dim_h = args['dim_h']\n",
        "        self.n_z = args['n_z']\n",
        "        \n",
        "        # convolutional filters, work excellent with image data\n",
        "        # [(W−K+2P)/S]+1\n",
        "        self.conv = nn.Sequential(\n",
        "            nn.AvgPool2d(7, stride=7),\n",
        "            nn.Conv2d(self.n_channel, self.dim_h, 4, 2, 1, bias=False),# 16\n",
        "            nn.LeakyReLU(0.2, inplace=True),\n",
        "            nn.Conv2d(self.dim_h, self.dim_h * 2, 4, 2, 1, bias=False), # 8\n",
        "            nn.BatchNorm2d(self.dim_h * 2),\n",
        "            nn.LeakyReLU(0.2, inplace=True),\n",
        "            nn.Conv2d(self.dim_h * 2, self.dim_h * 4, 4, 2, 1, bias=False),# 4\n",
        "            nn.BatchNorm2d(self.dim_h * 4),\n",
        "            nn.LeakyReLU(0.2, inplace=True),\n",
        "            nn.Conv2d(self.dim_h * 4, self.dim_h * 8, 4, 2, 0, bias=False),#14\n",
        "            nn.BatchNorm2d(self.dim_h * 8),\n",
        "            nn.LeakyReLU(0.2, inplace=True))\n",
        "        self.fc = nn.Linear(self.dim_h * (2 ** 3), self.n_z)\n",
        "\n",
        "    def forward(self, x):\n",
        "        x = self.conv(x)\n",
        "        \n",
        "        x = x.squeeze()\n",
        "        x = self.fc(x)\n",
        "        return x\n",
        "\n",
        "\n",
        "class Decoder(nn.Module):\n",
        "    def __init__(self, args):\n",
        "        super(Decoder, self).__init__()\n",
        "\n",
        "        self.n_channel = args['n_channel']\n",
        "        self.dim_h = args['dim_h']\n",
        "        self.n_z = args['n_z']\n",
        "\n",
        "        # first layer is fully connected\n",
        "        self.fc = nn.Sequential(\n",
        "            nn.Linear(self.n_z, self.dim_h * 2**3 * 7 * 7),\n",
        "            nn.ReLU())\n",
        "\n",
        "        # deconvolutional filters, essentially inverse of convolutional filters\n",
        "        # H_out ​= (H_in​−1)*stride[0] − 2×padding[0] + dilation[0]×(kernel_size[0]−1) + output_padding[0] + 1\n",
        "        self.deconv = nn.Sequential(\n",
        "            nn.ConvTranspose2d(self.dim_h * 8, self.dim_h * 4, 4), #10\n",
        "            nn.BatchNorm2d(self.dim_h * 4),\n",
        "            nn.ReLU(True),\n",
        "            nn.ConvTranspose2d(self.dim_h * 4, self.dim_h * 2, 4), #13\n",
        "            nn.BatchNorm2d(self.dim_h * 2),\n",
        "            nn.ReLU(True),\n",
        "            nn.ConvTranspose2d(self.dim_h * 2, self.dim_h, 4),# 16\n",
        "            nn.BatchNorm2d(self.dim_h),\n",
        "            nn.ReLU(True),\n",
        "            nn.ConvTranspose2d(self.dim_h, 3, 4, 2, 1),# 32\n",
        "            nn.UpsamplingBilinear2d(scale_factor=7),\n",
        "            nn.Tanh())\n",
        "\n",
        "    def forward(self, x):\n",
        "        x = self.fc(x)\n",
        "        x = x.view(-1, self.dim_h * 2**3, 7, 7)\n",
        "        x = self.deconv(x)\n",
        "        return x\n",
        "\n",
        "##############################################################################\n",
        "\"\"\"set models, loss functions\"\"\"\n",
        "# control which parameters are frozen / free for optimization\n",
        "def free_params(module: nn.Module):\n",
        "    for p in module.parameters():\n",
        "        p.requires_grad = True\n",
        "\n",
        "def frozen_params(module: nn.Module):\n",
        "    for p in module.parameters():\n",
        "        p.requires_grad = False\n",
        "\n",
        "def biased_get_class(X, y, c):\n",
        "    \n",
        "    xbeg = X[y == c]\n",
        "    ybeg = y[y == c]\n",
        "    \n",
        "    return xbeg, ybeg\n",
        "    #return xclass, yclass\n",
        "\n",
        "def G_SM(X, y,n_to_sample,cl):\n",
        "    n_neigh = 5\n",
        "    nn = NearestNeighbors(n_neighbors=n_neigh, n_jobs=1)\n",
        "    nn.fit(X)\n",
        "    dist, ind = nn.kneighbors(X)\n",
        "\n",
        "    # generating samples\n",
        "    base_indices = np.random.choice(list(range(len(X))),n_to_sample)\n",
        "    neighbor_indices = np.random.choice(list(range(1, n_neigh)),n_to_sample)\n",
        "\n",
        "    X_base = X[base_indices]\n",
        "    X_neighbor = X[ind[base_indices, neighbor_indices]]\n",
        "\n",
        "    samples = X_base + np.multiply(np.random.rand(n_to_sample,1),\n",
        "            X_neighbor - X_base)\n",
        "\n",
        "    #use 10 as label because 0 to 9 real classes and 1 fake/smoted = 10\n",
        "    return samples, [cl]*n_to_sample\n",
        "\n",
        "def DeepSMOTE_train(X_train, y_train, one_hot = False):\n",
        "  from torch.utils.data import TensorDataset\n",
        "  import os\n",
        "\n",
        "  max_el = np.max(X_train)\n",
        "  X_train = X_train / max_el\n",
        "  X_train = moveaxis(X_train, 3, 1)\n",
        "  if one_hot:\n",
        "    y_train = np.argmax(y_train, axis=1)\n",
        "  #X_train = X_train.astype('float32') / 255.\n",
        "  \n",
        "  batch_size = args['batch_size']\n",
        "  patience = args['patience']\n",
        "  encoder = Encoder(args)\n",
        "  decoder = Decoder(args)\n",
        "\n",
        "  device = 'cuda' if torch.cuda.is_available() else 'cpu'\n",
        "  print(device)\n",
        "  decoder = decoder.to(device)\n",
        "  encoder = encoder.to(device)\n",
        "\n",
        "  train_on_gpu = torch.cuda.is_available()\n",
        "\n",
        "  #decoder loss function\n",
        "  criterion = nn.MSELoss()\n",
        "  criterion = criterion.to(device)\n",
        "\n",
        "  num_workers = 0\n",
        "\n",
        "  #torch.Tensor returns float so if want long then use torch.tensor\n",
        "  tensor_x = torch.from_numpy(X_train.copy())#torch.Tensor(X_train)\n",
        "  tensor_y = torch.tensor(y_train,dtype=torch.long)\n",
        "  mnist_bal = TensorDataset(tensor_x,tensor_y) \n",
        "  train_loader = torch.utils.data.DataLoader(mnist_bal, \n",
        "      batch_size=batch_size,shuffle=True,num_workers=num_workers)\n",
        "\n",
        "  best_loss = np.inf\n",
        "\n",
        "  enc_optim = torch.optim.Adam(encoder.parameters(), lr = args['lr'])\n",
        "  dec_optim = torch.optim.Adam(decoder.parameters(), lr = args['lr'])\n",
        "\n",
        "  for epoch in range(args['epochs']):\n",
        "      train_loss = 0.0\n",
        "      tmse_loss = 0.0\n",
        "      tdiscr_loss = 0.0\n",
        "      # train for one epoch -- set nets to train mode\n",
        "      encoder.train()\n",
        "      decoder.train()\n",
        "  \n",
        "      for images,labs in train_loader:\n",
        "      \n",
        "          # zero gradients for each batch\n",
        "          encoder.zero_grad()\n",
        "          decoder.zero_grad()\n",
        "          images, labs = images.to(device), labs.to(device)\n",
        "          labsn = labs.detach().cpu().numpy()\n",
        "#            print('images shape', images.shape)\n",
        "          # run images\n",
        "          z_hat = encoder(images)\n",
        "#            print('images shape after encoding', z_hat.shape)\n",
        "      \n",
        "          x_hat = decoder(z_hat) #decoder outputs tanh\n",
        "#            print('images shape after decoding', x_hat.shape)\n",
        "          mse = criterion(x_hat,images)\n",
        "                  \n",
        "          resx = []\n",
        "          resy = []\n",
        "      \n",
        "          tc = np.random.choice(num_classes,1)\n",
        "          #tc = 9\n",
        "          xbeg = X_train[y_train == tc]\n",
        "          ybeg = y_train[y_train == tc] \n",
        "          xlen = len(xbeg)\n",
        "          nsamp = min(xlen, 100)\n",
        "          ind = np.random.choice(list(range(len(xbeg))),nsamp,replace=False)\n",
        "          xclass = xbeg[ind]\n",
        "          yclass = ybeg[ind]\n",
        "      \n",
        "          xclen = len(xclass)\n",
        "          xcminus = np.arange(1,xclen)\n",
        "          \n",
        "          xcplus = np.append(xcminus,0)\n",
        "          xcnew = (xclass[[xcplus],:])\n",
        "          xcnew = xcnew.reshape(xcnew.shape[1],xcnew.shape[2],xcnew.shape[3],xcnew.shape[4])\n",
        "      \n",
        "          xcnew = torch.Tensor(xcnew)\n",
        "          xcnew = xcnew.to(device)\n",
        "      \n",
        "          #encode xclass to feature space\n",
        "          xclass = torch.Tensor(xclass)\n",
        "          xclass = xclass.to(device)\n",
        "          xclass = encoder(xclass)\n",
        "      \n",
        "          xclass = xclass.detach().cpu().numpy()\n",
        "      \n",
        "          xc_enc = (xclass[[xcplus],:])\n",
        "          xc_enc = np.squeeze(xc_enc)\n",
        "      \n",
        "          xc_enc = torch.Tensor(xc_enc)\n",
        "          xc_enc = xc_enc.to(device)\n",
        "          \n",
        "          ximg = decoder(xc_enc)\n",
        "          \n",
        "          mse2 = criterion(ximg,xcnew)\n",
        "      \n",
        "          comb_loss = mse2 + mse\n",
        "          comb_loss.backward()\n",
        "      \n",
        "          enc_optim.step()\n",
        "          dec_optim.step()\n",
        "      \n",
        "          train_loss += comb_loss.item()*images.size(0)\n",
        "          tmse_loss += mse.item()*images.size(0)\n",
        "          tdiscr_loss += mse2.item()*images.size(0)\n",
        "\n",
        "      train_loss = train_loss/len(train_loader)\n",
        "      tmse_loss = tmse_loss/len(train_loader)\n",
        "      tdiscr_loss = tdiscr_loss/len(train_loader)\n",
        "      print('Epoch: {} \\tTrain Loss: {:.6f} \\tmse loss: {:.6f} \\tmse2 loss: {:.6f}'.format(epoch,\n",
        "              train_loss,tmse_loss,tdiscr_loss))\n",
        "      \n",
        "  \n",
        "  \n",
        "      #store the best encoder and decoder models\n",
        "      #here, /crs5 is a reference to 5 way cross validation, but is not\n",
        "      #necessary for illustration purposes\n",
        "      if train_loss < best_loss:\n",
        "          print('Saving..')\n",
        "          patience = args['patience']\n",
        "          path_enc = '/content/drive/MyDrive/PHD/Model/DeepSMOTE/32/bst_enc.pth'\n",
        "          path_dec = '/content/drive/MyDrive/PHD/Model/DeepSMOTE/32/bst_dec.pth'\n",
        "        \n",
        "          torch.save(encoder.state_dict(), path_enc)\n",
        "          torch.save(decoder.state_dict(), path_dec)\n",
        "  \n",
        "          best_loss = train_loss\n",
        "      else:\n",
        "          patience = patience - 1\n",
        "\n",
        "      if patience == 0:\n",
        "          print('Out of patience. \\n')\n",
        "          break\n",
        "\n",
        "def DeepSMOTE_Data(X_train, y_train, one_hot = False):\n",
        "  batch_size = args['batch_size']\n",
        "  max_el = np.max(X_train)\n",
        "  X_train = X_train / max_el\n",
        "  X_train = moveaxis(X_train, 3, 1)\n",
        "  if one_hot:\n",
        "    y_train = np.argmax(y_train, axis=1)\n",
        "  #Generate artificial images\n",
        "  import torch\n",
        "  np.printoptions(precision=5,suppress=True)\n",
        "\n",
        "  #path on the computer where the models are stored\n",
        "  modpth = '/content/drive/MyDrive/PHD/Model/DeepSMOTE/32/'\n",
        "\n",
        "  path_enc = modpth + '/bst_enc.pth'\n",
        "  path_dec = modpth + '/bst_dec.pth'\n",
        "  \n",
        "  train_on_gpu = torch.cuda.is_available()\n",
        "  device = 'cuda' if torch.cuda.is_available() else 'cpu'\n",
        "\n",
        "  encoder = Encoder(args)\n",
        "  encoder.load_state_dict(torch.load(path_enc), strict=False)\n",
        "  encoder = encoder.to(device)\n",
        "\n",
        "  decoder = Decoder(args)\n",
        "  decoder.load_state_dict(torch.load(path_dec), strict=False)\n",
        "  decoder = decoder.to(device)\n",
        "\n",
        "  encoder.eval()\n",
        "  decoder.eval()\n",
        "\n",
        "  resx = []\n",
        "  resy = []\n",
        "  \n",
        "  counter = Counter(y_train)\n",
        "  counter = sorted(counter.items())\n",
        "  counter = [value for _, value in counter]\n",
        "\n",
        "  for i in range(num_classes):\n",
        "      torch.cuda.empty_cache()\n",
        "\n",
        "      xclass, yclass = biased_get_class(X_train, y_train, i)\n",
        "      #encode xclass to feature space\n",
        "      xclass = torch.Tensor(xclass)\n",
        "      xclass = xclass.to(device)\n",
        "      xclass = encoder(xclass)\n",
        "          \n",
        "      xclass = xclass.detach().cpu().numpy()\n",
        "      n = np.max(counter) - counter[i]\n",
        "      if n == 0:\n",
        "        continue\n",
        "#        resx2 = []\n",
        "#        resy2 = []\n",
        "#        for j in range(batch_size, n+batch_size+1, batch_size):\n",
        "#          if j <= n:\n",
        "#            batch_size_max = batch_size\n",
        "#          elif n % batch_size != 0:\n",
        "#            batch_size_max = n%batch_size\n",
        "#          else:\n",
        "#            break\n",
        "#          xsamp, ysamp = G_SM(xclass,yclass,batch_size_max,i)\n",
        "      xsamp, ysamp = G_SM(xclass,yclass,n,i)\n",
        "      ysamp = np.array(ysamp)\n",
        "  \n",
        "      \"\"\"to generate samples for resnet\"\"\"   \n",
        "      xsamp = torch.Tensor(xsamp)\n",
        "      xsamp = xsamp.to(device)\n",
        "      ximg = decoder(xsamp)\n",
        "\n",
        "      ximn = ximg.detach().cpu().numpy()\n",
        "#        resx2.append(ximn)\n",
        "#        resy2.append(ysamp)\n",
        "#        \n",
        "#        resx2 = np.vstack(resx2)\n",
        "#        resy2 = np.hstack(resy2)\n",
        "      resx.append(ximn)\n",
        "      resy.append(ysamp)\n",
        "  \n",
        "  resx1 = np.vstack(resx)\n",
        "  resy1 = np.hstack(resy)\n",
        "  resx1 = resx1.reshape(resx1.shape[0],-1)\n",
        "  X_train = X_train.reshape(X_train.shape[0],-1)\n",
        "  X_train = np.vstack((resx1,X_train))\n",
        "  y_train = np.hstack((resy1,y_train))\n",
        "  y_train = to_categorical(y_train)\n",
        "  X_train = X_train.reshape(-1, 3, IMAGE_W, IMAGE_H)\n",
        "  X_train = moveaxis(X_train, 1, 3)\n",
        "  X_train = X_train * max_el\n",
        "  return X_train, y_train"
      ]
    },
    {
      "cell_type": "markdown",
      "metadata": {
        "id": "0jrJ33lUDkCM"
      },
      "source": [
        "#Split dataset to train and val"
      ]
    },
    {
      "cell_type": "code",
      "execution_count": null,
      "metadata": {
        "colab": {
          "base_uri": "https://localhost:8080/"
        },
        "id": "e6qneWL_Bs2U",
        "outputId": "cc7899de-f169-4850-dbe2-44ffb5a994d8"
      },
      "outputs": [
        {
          "output_type": "stream",
          "name": "stdout",
          "text": [
            "Train Data:  (11261, 224, 224, 3)\n",
            "Remaining Data:  (2816, 224, 224, 3)\n"
          ]
        }
      ],
      "source": [
        "# stratified train and rem (20%) datasets\n",
        "from sklearn.model_selection import train_test_split\n",
        "X_train, X_val, y_train, y_val = train_test_split(X_train, y_train, test_size=0.2, stratify=y_train, random_state=1)\n",
        "\n",
        "print('Train Data: ', X_train.shape)\n",
        "print('Remaining Data: ', X_val.shape)"
      ]
    },
    {
      "cell_type": "code",
      "execution_count": null,
      "metadata": {
        "id": "8Kef4r_zxjgk"
      },
      "outputs": [],
      "source": [
        "#Data Augmentation\n",
        "dataaugment = ImageDataGenerator(\n",
        "        rotation_range=90,  # randomly rotate images in the range (degrees, 0 to 180)\n",
        "        zoom_range = 0.1, # Randomly zoom image \n",
        "        width_shift_range=0.1,  # randomly shift images horizontally (fraction of total width)\n",
        "        height_shift_range=0.1,  # randomly shift images vertically (fraction of total height)\n",
        "        horizontal_flip=True,  # randomly flip images\n",
        "        vertical_flip=True,  # randomly flip images\n",
        "        shear_range = 10) \n",
        "\n",
        "dataaugment.fit(X_train)"
      ]
    },
    {
      "cell_type": "markdown",
      "metadata": {
        "id": "B2PgksTFkOAq"
      },
      "source": [
        "#Fine Tune"
      ]
    },
    {
      "cell_type": "code",
      "execution_count": null,
      "metadata": {
        "id": "Nr1jnSM7yzJc"
      },
      "outputs": [],
      "source": [
        "limit = 171\n",
        "for layer in model.layers[:limit]:\n",
        "   layer.trainable = False\n",
        "for layer in model.layers[limit:]:\n",
        "   layer.trainable = True\n",
        "\n",
        "optimizer_SGD = SGD(learning_rate=0.0001, momentum=0.9)\n",
        "model.compile(optimizer = optimizer_SGD , loss = \"categorical_crossentropy\", metrics=['accuracy', balanced_acc])\n",
        "hst2 = model.fit(train_data_batches,\n",
        "                    epochs = EPOCHS, validation_data = valid_data_batches,\n",
        "                    callbacks=[learning_rate_reduction,early_stopping_monitor, mc])\n"
      ]
    },
    {
      "cell_type": "code",
      "execution_count": null,
      "metadata": {
        "id": "vO1aAQBmiy0K"
      },
      "outputs": [],
      "source": [
        "# summarize history for accuracy\n",
        "plt.plot(hst2.history['balanced_acc'])\n",
        "plt.plot(hst2.history['val_balanced_acc'])\n",
        "plt.title('model balance_acc after tunning')\n",
        "plt.ylabel('accuracy')\n",
        "plt.xlabel('epoch')\n",
        "plt.legend(['train', 'val'], loc='upper left')\n",
        "plt.show()"
      ]
    }
  ],
  "metadata": {
    "accelerator": "GPU",
    "colab": {
      "collapsed_sections": [
        "3K908bbiYwbS",
        "RcRGeofw-8tK",
        "cNBXx28B9yGu",
        "0jrJ33lUDkCM",
        "B2PgksTFkOAq"
      ],
      "machine_shape": "hm",
      "provenance": [],
      "include_colab_link": true
    },
    "gpuClass": "standard",
    "kernelspec": {
      "display_name": "Python 3",
      "name": "python3"
    },
    "language_info": {
      "name": "python"
    }
  },
  "nbformat": 4,
  "nbformat_minor": 0
}